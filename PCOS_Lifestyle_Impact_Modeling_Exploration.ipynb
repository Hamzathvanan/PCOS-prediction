{
 "cells": [
  {
   "metadata": {},
   "cell_type": "markdown",
   "source": "# **PCOS Lifestyle Impact Prediction**",
   "id": "a3e347efbd314a92"
  },
  {
   "metadata": {},
   "cell_type": "markdown",
   "source": "# This Jupyter notebook implements a series of machine learning models to predict the likelihood of PCOS based on lifestyle factors.",
   "id": "575235c70464718d"
  },
  {
   "metadata": {},
   "cell_type": "markdown",
   "source": "# The models used include Random Forest, Decision Trees, Logistic Regression, and MLP. The dataset is preprocessed, features are engineered, and the models are evaluated for accuracy.",
   "id": "6f748530baa7f2c7"
  },
  {
   "metadata": {},
   "cell_type": "markdown",
   "source": "# **Loading and Initial Dataset Checks**",
   "id": "22dd3d3ef0cebb6b"
  },
  {
   "metadata": {},
   "cell_type": "markdown",
   "source": "# Importing necessary libraries",
   "id": "f343d07f693c5e0b"
  },
  {
   "metadata": {
    "ExecuteTime": {
     "end_time": "2025-02-12T20:19:10.931101Z",
     "start_time": "2025-02-12T20:19:10.789333Z"
    }
   },
   "cell_type": "code",
   "source": [
    "import numpy as np\n",
    "import pandas as pd\n",
    "import matplotlib.pyplot as plt\n",
    "import seaborn as sns\n",
    "from sklearn.preprocessing import LabelEncoder, StandardScaler\n",
    "from sklearn.model_selection import train_test_split, GridSearchCV\n",
    "from sklearn.ensemble import RandomForestClassifier\n",
    "from sklearn.metrics import accuracy_score, confusion_matrix, ConfusionMatrixDisplay, roc_curve, auc\n",
    "from sklearn.linear_model import LogisticRegression\n",
    "from sklearn.tree import DecisionTreeClassifier\n",
    "from sklearn.neural_network import MLPClassifier"
   ],
   "id": "c301acac5bd1381e",
   "outputs": [],
   "execution_count": 1
  },
  {
   "metadata": {},
   "cell_type": "markdown",
   "source": "# Load the dataset from the CSV file",
   "id": "4766c03d753a40e4"
  },
  {
   "metadata": {
    "ExecuteTime": {
     "end_time": "2025-02-12T20:19:10.947106Z",
     "start_time": "2025-02-12T20:19:10.934103Z"
    }
   },
   "cell_type": "code",
   "source": [
    "data = pd.read_csv(\"input/Cleaned-Data.csv\")\n",
    "print(\"Initial dataset shape:\", data.shape)"
   ],
   "id": "456fc02eda6ad22f",
   "outputs": [
    {
     "name": "stdout",
     "output_type": "stream",
     "text": [
      "Initial dataset shape: (173, 36)\n"
     ]
    }
   ],
   "execution_count": 2
  },
  {
   "metadata": {},
   "cell_type": "markdown",
   "source": "# **Data Preprocessing and Validation**",
   "id": "1de7dd7049d166ad"
  },
  {
   "metadata": {
    "ExecuteTime": {
     "end_time": "2025-02-12T20:19:11.055002Z",
     "start_time": "2025-02-12T20:19:11.040739Z"
    }
   },
   "cell_type": "code",
   "source": "print(data.describe())",
   "id": "d67c7f2426b0467c",
   "outputs": [
    {
     "name": "stdout",
     "output_type": "stream",
     "text": [
      "        Weight_kg   Height_ft  Diet_Bread_Cereals  Diet_Milk_Products  \\\n",
      "count  173.000000  173.000000          173.000000          173.000000   \n",
      "mean    56.549711  160.636647            5.445087            3.647399   \n",
      "std     12.025369    7.287373            2.116832            2.548930   \n",
      "min     36.000000  124.460000            0.000000            0.000000   \n",
      "25%     49.000000  157.480000            4.000000            1.000000   \n",
      "50%     55.000000  160.020000            7.000000            3.000000   \n",
      "75%     64.000000  165.100000            7.000000            7.000000   \n",
      "max    115.000000  182.880000            7.000000            7.000000   \n",
      "\n",
      "       Diet_Fruits  Diet_Vegetables  Diet_Starchy_Vegetables  \\\n",
      "count   173.000000       173.000000               173.000000   \n",
      "mean      3.034682         3.439306                 3.069364   \n",
      "std       2.048527         1.769596                 1.857054   \n",
      "min       0.000000         0.000000                 0.000000   \n",
      "25%       1.000000         2.000000                 2.000000   \n",
      "50%       3.000000         3.000000                 3.000000   \n",
      "75%       4.000000         5.000000                 4.000000   \n",
      "max       7.000000         7.000000                 7.000000   \n",
      "\n",
      "       Diet_NonStarchy_Vegetables   Diet_Fats  Diet_Sweets  Diet_Fried_Food  \\\n",
      "count                  173.000000  173.000000   173.000000       173.000000   \n",
      "mean                     2.450867    4.531792     3.618497         3.179191   \n",
      "std                      1.709808    2.293919     2.255253         2.019448   \n",
      "min                      0.000000    0.000000     0.000000         0.000000   \n",
      "25%                      1.000000    2.000000     2.000000         1.000000   \n",
      "50%                      2.000000    5.000000     3.000000         3.000000   \n",
      "75%                      3.000000    7.000000     6.000000         5.000000   \n",
      "max                      7.000000    7.000000     7.000000         7.000000   \n",
      "\n",
      "       Diet_Tea_Coffee  Diet_Multivitamin  \n",
      "count       173.000000         173.000000  \n",
      "mean          4.549133           1.393064  \n",
      "std           2.785795           2.326880  \n",
      "min           0.000000           0.000000  \n",
      "25%           2.000000           0.000000  \n",
      "50%           6.000000           0.000000  \n",
      "75%           7.000000           2.000000  \n",
      "max           7.000000           7.000000  \n"
     ]
    }
   ],
   "execution_count": 3
  },
  {
   "metadata": {
    "ExecuteTime": {
     "end_time": "2025-02-12T20:19:11.148643Z",
     "start_time": "2025-02-12T20:19:11.132639Z"
    }
   },
   "cell_type": "code",
   "source": "data.info()",
   "id": "1444e68a4092939f",
   "outputs": [
    {
     "name": "stdout",
     "output_type": "stream",
     "text": [
      "<class 'pandas.core.frame.DataFrame'>\n",
      "RangeIndex: 173 entries, 0 to 172\n",
      "Data columns (total 36 columns):\n",
      " #   Column                      Non-Null Count  Dtype  \n",
      "---  ------                      --------------  -----  \n",
      " 0   Age                         173 non-null    object \n",
      " 1   Weight_kg                   173 non-null    float64\n",
      " 2   Height_ft                   173 non-null    float64\n",
      " 3   Marital_Status              173 non-null    object \n",
      " 4   PCOS                        173 non-null    object \n",
      " 5   Family_History_PCOS         173 non-null    object \n",
      " 6   Menstrual_Irregularity      173 non-null    object \n",
      " 7   Hormonal_Imbalance          173 non-null    object \n",
      " 8   Hyperandrogenism            173 non-null    object \n",
      " 9   Hirsutism                   173 non-null    object \n",
      " 10  Mental_Health               173 non-null    object \n",
      " 11  Conception_Difficulty       173 non-null    object \n",
      " 12  Insulin_Resistance          173 non-null    object \n",
      " 13  Diabetes                    173 non-null    object \n",
      " 14  Childhood_Trauma            173 non-null    object \n",
      " 15  Cardiovascular_Disease      173 non-null    object \n",
      " 16  Diet_Bread_Cereals          173 non-null    int64  \n",
      " 17  Diet_Milk_Products          173 non-null    int64  \n",
      " 18  Diet_Fruits                 173 non-null    int64  \n",
      " 19  Diet_Vegetables             173 non-null    int64  \n",
      " 20  Diet_Starchy_Vegetables     173 non-null    int64  \n",
      " 21  Diet_NonStarchy_Vegetables  173 non-null    int64  \n",
      " 22  Diet_Fats                   173 non-null    int64  \n",
      " 23  Diet_Sweets                 173 non-null    int64  \n",
      " 24  Diet_Fried_Food             173 non-null    int64  \n",
      " 25  Diet_Tea_Coffee             173 non-null    int64  \n",
      " 26  Diet_Multivitamin           173 non-null    int64  \n",
      " 27  Vegetarian                  173 non-null    object \n",
      " 28  Exercise_Frequency          173 non-null    object \n",
      " 29  Exercise_Type               173 non-null    object \n",
      " 30  Exercise_Duration           173 non-null    object \n",
      " 31  Sleep_Hours                 173 non-null    object \n",
      " 32  Stress_Level                173 non-null    object \n",
      " 33  Smoking                     173 non-null    object \n",
      " 34  Exercise_Benefit            173 non-null    object \n",
      " 35  PCOS_Medication             173 non-null    object \n",
      "dtypes: float64(2), int64(11), object(23)\n",
      "memory usage: 48.8+ KB\n"
     ]
    }
   ],
   "execution_count": 4
  },
  {
   "metadata": {
    "ExecuteTime": {
     "end_time": "2025-02-12T20:19:11.180148Z",
     "start_time": "2025-02-12T20:19:11.165149Z"
    }
   },
   "cell_type": "code",
   "source": "data.head()",
   "id": "e395ff5fc0f326ae",
   "outputs": [
    {
     "data": {
      "text/plain": [
       "            Age  Weight_kg  Height_ft Marital_Status PCOS Family_History_PCOS  \\\n",
       "0         20-25       66.0     157.48      Unmarried   No                  No   \n",
       "1  Less than 20       56.0     165.10      Unmarried   No                  No   \n",
       "2  Less than 20       89.0     167.64      Unmarried   No                 Yes   \n",
       "3         20-25       55.0     160.02      Unmarried   No                 Yes   \n",
       "4  Less than 20       55.0     160.02      Unmarried   No                  No   \n",
       "\n",
       "  Menstrual_Irregularity Hormonal_Imbalance Hyperandrogenism Hirsutism  ...  \\\n",
       "0                    Yes                 No               No        No  ...   \n",
       "1                     No                 No               No        No  ...   \n",
       "2                     No                 No               No       Yes  ...   \n",
       "3                     No                Yes               No       Yes  ...   \n",
       "4                     No                 No               No        No  ...   \n",
       "\n",
       "  Diet_Multivitamin Vegetarian Exercise_Frequency  \\\n",
       "0                 0         No             Rarely   \n",
       "1                 0         No              Daily   \n",
       "2                 0         No             Rarely   \n",
       "3                 1         No              Never   \n",
       "4                 0         No              Daily   \n",
       "\n",
       "                               Exercise_Type     Exercise_Duration  \\\n",
       "0  Cardio (e.g., running, cycling, swimming)            30 minutes   \n",
       "1                                No Exercise  Less than 30 minutes   \n",
       "2  Cardio (e.g., running, cycling, swimming)  Less than 30 minutes   \n",
       "3                                No Exercise        Not Applicable   \n",
       "4  Cardio (e.g., running, cycling, swimming)  30 minutes to 1 hour   \n",
       "\n",
       "         Sleep_Hours  Stress_Level  Smoking  Exercise_Benefit  PCOS_Medication  \n",
       "0  Less than 6 hours            No       No          Somewhat              No.  \n",
       "1          6-8 hours            No       No          Somewhat              No.  \n",
       "2          6-8 hours           Yes       No          Somewhat              No.  \n",
       "3          6-8 hours           Yes       No          Somewhat              No.  \n",
       "4          6-8 hours           Yes       No        Not at All              No.  \n",
       "\n",
       "[5 rows x 36 columns]"
      ],
      "text/html": [
       "<div>\n",
       "<style scoped>\n",
       "    .dataframe tbody tr th:only-of-type {\n",
       "        vertical-align: middle;\n",
       "    }\n",
       "\n",
       "    .dataframe tbody tr th {\n",
       "        vertical-align: top;\n",
       "    }\n",
       "\n",
       "    .dataframe thead th {\n",
       "        text-align: right;\n",
       "    }\n",
       "</style>\n",
       "<table border=\"1\" class=\"dataframe\">\n",
       "  <thead>\n",
       "    <tr style=\"text-align: right;\">\n",
       "      <th></th>\n",
       "      <th>Age</th>\n",
       "      <th>Weight_kg</th>\n",
       "      <th>Height_ft</th>\n",
       "      <th>Marital_Status</th>\n",
       "      <th>PCOS</th>\n",
       "      <th>Family_History_PCOS</th>\n",
       "      <th>Menstrual_Irregularity</th>\n",
       "      <th>Hormonal_Imbalance</th>\n",
       "      <th>Hyperandrogenism</th>\n",
       "      <th>Hirsutism</th>\n",
       "      <th>...</th>\n",
       "      <th>Diet_Multivitamin</th>\n",
       "      <th>Vegetarian</th>\n",
       "      <th>Exercise_Frequency</th>\n",
       "      <th>Exercise_Type</th>\n",
       "      <th>Exercise_Duration</th>\n",
       "      <th>Sleep_Hours</th>\n",
       "      <th>Stress_Level</th>\n",
       "      <th>Smoking</th>\n",
       "      <th>Exercise_Benefit</th>\n",
       "      <th>PCOS_Medication</th>\n",
       "    </tr>\n",
       "  </thead>\n",
       "  <tbody>\n",
       "    <tr>\n",
       "      <th>0</th>\n",
       "      <td>20-25</td>\n",
       "      <td>66.0</td>\n",
       "      <td>157.48</td>\n",
       "      <td>Unmarried</td>\n",
       "      <td>No</td>\n",
       "      <td>No</td>\n",
       "      <td>Yes</td>\n",
       "      <td>No</td>\n",
       "      <td>No</td>\n",
       "      <td>No</td>\n",
       "      <td>...</td>\n",
       "      <td>0</td>\n",
       "      <td>No</td>\n",
       "      <td>Rarely</td>\n",
       "      <td>Cardio (e.g., running, cycling, swimming)</td>\n",
       "      <td>30 minutes</td>\n",
       "      <td>Less than 6 hours</td>\n",
       "      <td>No</td>\n",
       "      <td>No</td>\n",
       "      <td>Somewhat</td>\n",
       "      <td>No.</td>\n",
       "    </tr>\n",
       "    <tr>\n",
       "      <th>1</th>\n",
       "      <td>Less than 20</td>\n",
       "      <td>56.0</td>\n",
       "      <td>165.10</td>\n",
       "      <td>Unmarried</td>\n",
       "      <td>No</td>\n",
       "      <td>No</td>\n",
       "      <td>No</td>\n",
       "      <td>No</td>\n",
       "      <td>No</td>\n",
       "      <td>No</td>\n",
       "      <td>...</td>\n",
       "      <td>0</td>\n",
       "      <td>No</td>\n",
       "      <td>Daily</td>\n",
       "      <td>No Exercise</td>\n",
       "      <td>Less than 30 minutes</td>\n",
       "      <td>6-8 hours</td>\n",
       "      <td>No</td>\n",
       "      <td>No</td>\n",
       "      <td>Somewhat</td>\n",
       "      <td>No.</td>\n",
       "    </tr>\n",
       "    <tr>\n",
       "      <th>2</th>\n",
       "      <td>Less than 20</td>\n",
       "      <td>89.0</td>\n",
       "      <td>167.64</td>\n",
       "      <td>Unmarried</td>\n",
       "      <td>No</td>\n",
       "      <td>Yes</td>\n",
       "      <td>No</td>\n",
       "      <td>No</td>\n",
       "      <td>No</td>\n",
       "      <td>Yes</td>\n",
       "      <td>...</td>\n",
       "      <td>0</td>\n",
       "      <td>No</td>\n",
       "      <td>Rarely</td>\n",
       "      <td>Cardio (e.g., running, cycling, swimming)</td>\n",
       "      <td>Less than 30 minutes</td>\n",
       "      <td>6-8 hours</td>\n",
       "      <td>Yes</td>\n",
       "      <td>No</td>\n",
       "      <td>Somewhat</td>\n",
       "      <td>No.</td>\n",
       "    </tr>\n",
       "    <tr>\n",
       "      <th>3</th>\n",
       "      <td>20-25</td>\n",
       "      <td>55.0</td>\n",
       "      <td>160.02</td>\n",
       "      <td>Unmarried</td>\n",
       "      <td>No</td>\n",
       "      <td>Yes</td>\n",
       "      <td>No</td>\n",
       "      <td>Yes</td>\n",
       "      <td>No</td>\n",
       "      <td>Yes</td>\n",
       "      <td>...</td>\n",
       "      <td>1</td>\n",
       "      <td>No</td>\n",
       "      <td>Never</td>\n",
       "      <td>No Exercise</td>\n",
       "      <td>Not Applicable</td>\n",
       "      <td>6-8 hours</td>\n",
       "      <td>Yes</td>\n",
       "      <td>No</td>\n",
       "      <td>Somewhat</td>\n",
       "      <td>No.</td>\n",
       "    </tr>\n",
       "    <tr>\n",
       "      <th>4</th>\n",
       "      <td>Less than 20</td>\n",
       "      <td>55.0</td>\n",
       "      <td>160.02</td>\n",
       "      <td>Unmarried</td>\n",
       "      <td>No</td>\n",
       "      <td>No</td>\n",
       "      <td>No</td>\n",
       "      <td>No</td>\n",
       "      <td>No</td>\n",
       "      <td>No</td>\n",
       "      <td>...</td>\n",
       "      <td>0</td>\n",
       "      <td>No</td>\n",
       "      <td>Daily</td>\n",
       "      <td>Cardio (e.g., running, cycling, swimming)</td>\n",
       "      <td>30 minutes to 1 hour</td>\n",
       "      <td>6-8 hours</td>\n",
       "      <td>Yes</td>\n",
       "      <td>No</td>\n",
       "      <td>Not at All</td>\n",
       "      <td>No.</td>\n",
       "    </tr>\n",
       "  </tbody>\n",
       "</table>\n",
       "<p>5 rows × 36 columns</p>\n",
       "</div>"
      ]
     },
     "execution_count": 5,
     "metadata": {},
     "output_type": "execute_result"
    }
   ],
   "execution_count": 5
  },
  {
   "metadata": {
    "ExecuteTime": {
     "end_time": "2025-02-12T20:19:11.242486Z",
     "start_time": "2025-02-12T20:19:11.227337Z"
    }
   },
   "cell_type": "code",
   "source": "data.isnull().sum()",
   "id": "b51836667e4263d3",
   "outputs": [
    {
     "data": {
      "text/plain": [
       "Age                           0\n",
       "Weight_kg                     0\n",
       "Height_ft                     0\n",
       "Marital_Status                0\n",
       "PCOS                          0\n",
       "Family_History_PCOS           0\n",
       "Menstrual_Irregularity        0\n",
       "Hormonal_Imbalance            0\n",
       "Hyperandrogenism              0\n",
       "Hirsutism                     0\n",
       "Mental_Health                 0\n",
       "Conception_Difficulty         0\n",
       "Insulin_Resistance            0\n",
       "Diabetes                      0\n",
       "Childhood_Trauma              0\n",
       "Cardiovascular_Disease        0\n",
       "Diet_Bread_Cereals            0\n",
       "Diet_Milk_Products            0\n",
       "Diet_Fruits                   0\n",
       "Diet_Vegetables               0\n",
       "Diet_Starchy_Vegetables       0\n",
       "Diet_NonStarchy_Vegetables    0\n",
       "Diet_Fats                     0\n",
       "Diet_Sweets                   0\n",
       "Diet_Fried_Food               0\n",
       "Diet_Tea_Coffee               0\n",
       "Diet_Multivitamin             0\n",
       "Vegetarian                    0\n",
       "Exercise_Frequency            0\n",
       "Exercise_Type                 0\n",
       "Exercise_Duration             0\n",
       "Sleep_Hours                   0\n",
       "Stress_Level                  0\n",
       "Smoking                       0\n",
       "Exercise_Benefit              0\n",
       "PCOS_Medication               0\n",
       "dtype: int64"
      ]
     },
     "execution_count": 6,
     "metadata": {},
     "output_type": "execute_result"
    }
   ],
   "execution_count": 6
  },
  {
   "metadata": {},
   "cell_type": "markdown",
   "source": "# Label encode categorical features (excluding target)",
   "id": "80d2ad2859719b9c"
  },
  {
   "metadata": {},
   "cell_type": "markdown",
   "source": "# Label encode categorical columns",
   "id": "c3674c08ee2a63e0"
  },
  {
   "metadata": {
    "ExecuteTime": {
     "end_time": "2025-02-12T20:19:11.289987Z",
     "start_time": "2025-02-12T20:19:11.274990Z"
    }
   },
   "cell_type": "code",
   "source": [
    "categorical_cols = data.drop(columns=['PCOS']).select_dtypes(include=['object']).columns\n",
    "data_encoded = data.copy()\n",
    "label_encoder = LabelEncoder()\n",
    "\n",
    "for col in categorical_cols:\n",
    "    data_encoded[col] = label_encoder.fit_transform(data_encoded[col])"
   ],
   "id": "af661c98c401267b",
   "outputs": [],
   "execution_count": 7
  },
  {
   "metadata": {},
   "cell_type": "markdown",
   "source": "# **Critical: Target Validation**",
   "id": "188227194d65a9b9"
  },
  {
   "metadata": {},
   "cell_type": "markdown",
   "source": "# Ensure that the target class (`PCOS`) contains at least two samples per class for modeling",
   "id": "fd586f8db3246025"
  },
  {
   "metadata": {
    "ExecuteTime": {
     "end_time": "2025-02-12T20:19:11.351989Z",
     "start_time": "2025-02-12T20:19:11.336987Z"
    }
   },
   "cell_type": "code",
   "source": [
    "target_counts = data_encoded['PCOS'].value_counts()\n",
    "print(\"\\nTarget distribution before processing:\")\n",
    "print(target_counts)"
   ],
   "id": "fe27a3ddc1f84c44",
   "outputs": [
    {
     "name": "stdout",
     "output_type": "stream",
     "text": [
      "\n",
      "Target distribution before processing:\n",
      "PCOS\n",
      "No                                    134\n",
      "Yes                                    38\n",
      "No, Yes, not diagnosed by a doctor      1\n",
      "Name: count, dtype: int64\n"
     ]
    }
   ],
   "execution_count": 8
  },
  {
   "metadata": {},
   "cell_type": "markdown",
   "source": "# Remove classes with fewer than 2 samples",
   "id": "9e8559fbd842f158"
  },
  {
   "metadata": {
    "ExecuteTime": {
     "end_time": "2025-02-12T20:19:11.412849Z",
     "start_time": "2025-02-12T20:19:11.398849Z"
    }
   },
   "cell_type": "code",
   "source": [
    "valid_classes = target_counts[target_counts >= 2].index\n",
    "data_filtered = data_encoded[data_encoded['PCOS'].isin(valid_classes)]\n",
    "print(\"\\nFiltered dataset shape:\", data_filtered.shape)"
   ],
   "id": "5ae898436e23e3ea",
   "outputs": [
    {
     "name": "stdout",
     "output_type": "stream",
     "text": [
      "\n",
      "Filtered dataset shape: (172, 36)\n"
     ]
    }
   ],
   "execution_count": 9
  },
  {
   "metadata": {},
   "cell_type": "markdown",
   "source": "# **Feature Engineering**",
   "id": "1dc110676a4e0ef4"
  },
  {
   "metadata": {},
   "cell_type": "markdown",
   "source": "# Adding BMI and Nutritional Score features",
   "id": "57afbfc4bdad0430"
  },
  {
   "metadata": {
    "ExecuteTime": {
     "end_time": "2025-02-12T20:19:11.443852Z",
     "start_time": "2025-02-12T20:19:11.433849Z"
    }
   },
   "cell_type": "code",
   "source": [
    "data_filtered = data_filtered.copy()\n",
    "\n",
    "data_filtered.loc[:, 'Height_m'] = data_filtered['Height_ft'] * 0.3048\n",
    "data_filtered.loc[:, 'BMI'] = data_filtered['Weight_kg'] / (data_filtered['Height_m'] ** 2)"
   ],
   "id": "a8b485a3cee666a1",
   "outputs": [],
   "execution_count": 10
  },
  {
   "metadata": {},
   "cell_type": "markdown",
   "source": "# Nutritional score calculation based on the diet-related columns",
   "id": "4554acb3e77134ff"
  },
  {
   "metadata": {
    "ExecuteTime": {
     "end_time": "2025-02-12T20:19:11.474361Z",
     "start_time": "2025-02-12T20:19:11.460361Z"
    }
   },
   "cell_type": "code",
   "source": [
    "nutrition_weights = {\n",
    "    'Diet_Bread_Cereals': 1,\n",
    "    'Diet_Milk_Products': 1,\n",
    "    'Diet_Fruits': 2,\n",
    "    'Diet_Vegetables': 2,\n",
    "    'Diet_Starchy_Vegetables': -1,\n",
    "    'Diet_NonStarchy_Vegetables': 2,\n",
    "    'Diet_Fats': -2,\n",
    "    'Diet_Sweets': -3,\n",
    "    'Diet_Fried_Food': -3,\n",
    "    'Diet_Tea_Coffee': 0,\n",
    "}\n",
    "data_filtered.loc[:, 'Nutritional_Score'] = data_filtered[nutrition_weights.keys()].dot(pd.Series(nutrition_weights))\n",
    "\n",
    "data_filtered.head()"
   ],
   "id": "f9a14d515b30cf9b",
   "outputs": [
    {
     "data": {
      "text/plain": [
       "   Age  Weight_kg  Height_ft  Marital_Status PCOS  Family_History_PCOS  \\\n",
       "0    0       66.0     157.48               1   No                    0   \n",
       "1    5       56.0     165.10               1   No                    0   \n",
       "2    5       89.0     167.64               1   No                    1   \n",
       "3    0       55.0     160.02               1   No                    1   \n",
       "4    5       55.0     160.02               1   No                    0   \n",
       "\n",
       "   Menstrual_Irregularity  Hormonal_Imbalance  Hyperandrogenism  Hirsutism  \\\n",
       "0                       1                   0                 0          0   \n",
       "1                       0                   0                 0          0   \n",
       "2                       0                   0                 0          2   \n",
       "3                       0                   2                 0          2   \n",
       "4                       0                   0                 0          0   \n",
       "\n",
       "   ...  Exercise_Type  Exercise_Duration  Sleep_Hours  Stress_Level  Smoking  \\\n",
       "0  ...              0                  0            2             0        0   \n",
       "1  ...              9                  2            0             0        0   \n",
       "2  ...              0                  2            0             1        0   \n",
       "3  ...              9                  4            0             1        0   \n",
       "4  ...              0                  1            0             1        0   \n",
       "\n",
       "   Exercise_Benefit  PCOS_Medication   Height_m       BMI  Nutritional_Score  \n",
       "0                 2                5  47.999904  0.028646                -11  \n",
       "1                 2                5  50.322480  0.022114                 13  \n",
       "2                 2                5  51.096672  0.034088                -10  \n",
       "3                 2                5  48.774096  0.023120                -28  \n",
       "4                 1                5  48.774096  0.023120                 -2  \n",
       "\n",
       "[5 rows x 39 columns]"
      ],
      "text/html": [
       "<div>\n",
       "<style scoped>\n",
       "    .dataframe tbody tr th:only-of-type {\n",
       "        vertical-align: middle;\n",
       "    }\n",
       "\n",
       "    .dataframe tbody tr th {\n",
       "        vertical-align: top;\n",
       "    }\n",
       "\n",
       "    .dataframe thead th {\n",
       "        text-align: right;\n",
       "    }\n",
       "</style>\n",
       "<table border=\"1\" class=\"dataframe\">\n",
       "  <thead>\n",
       "    <tr style=\"text-align: right;\">\n",
       "      <th></th>\n",
       "      <th>Age</th>\n",
       "      <th>Weight_kg</th>\n",
       "      <th>Height_ft</th>\n",
       "      <th>Marital_Status</th>\n",
       "      <th>PCOS</th>\n",
       "      <th>Family_History_PCOS</th>\n",
       "      <th>Menstrual_Irregularity</th>\n",
       "      <th>Hormonal_Imbalance</th>\n",
       "      <th>Hyperandrogenism</th>\n",
       "      <th>Hirsutism</th>\n",
       "      <th>...</th>\n",
       "      <th>Exercise_Type</th>\n",
       "      <th>Exercise_Duration</th>\n",
       "      <th>Sleep_Hours</th>\n",
       "      <th>Stress_Level</th>\n",
       "      <th>Smoking</th>\n",
       "      <th>Exercise_Benefit</th>\n",
       "      <th>PCOS_Medication</th>\n",
       "      <th>Height_m</th>\n",
       "      <th>BMI</th>\n",
       "      <th>Nutritional_Score</th>\n",
       "    </tr>\n",
       "  </thead>\n",
       "  <tbody>\n",
       "    <tr>\n",
       "      <th>0</th>\n",
       "      <td>0</td>\n",
       "      <td>66.0</td>\n",
       "      <td>157.48</td>\n",
       "      <td>1</td>\n",
       "      <td>No</td>\n",
       "      <td>0</td>\n",
       "      <td>1</td>\n",
       "      <td>0</td>\n",
       "      <td>0</td>\n",
       "      <td>0</td>\n",
       "      <td>...</td>\n",
       "      <td>0</td>\n",
       "      <td>0</td>\n",
       "      <td>2</td>\n",
       "      <td>0</td>\n",
       "      <td>0</td>\n",
       "      <td>2</td>\n",
       "      <td>5</td>\n",
       "      <td>47.999904</td>\n",
       "      <td>0.028646</td>\n",
       "      <td>-11</td>\n",
       "    </tr>\n",
       "    <tr>\n",
       "      <th>1</th>\n",
       "      <td>5</td>\n",
       "      <td>56.0</td>\n",
       "      <td>165.10</td>\n",
       "      <td>1</td>\n",
       "      <td>No</td>\n",
       "      <td>0</td>\n",
       "      <td>0</td>\n",
       "      <td>0</td>\n",
       "      <td>0</td>\n",
       "      <td>0</td>\n",
       "      <td>...</td>\n",
       "      <td>9</td>\n",
       "      <td>2</td>\n",
       "      <td>0</td>\n",
       "      <td>0</td>\n",
       "      <td>0</td>\n",
       "      <td>2</td>\n",
       "      <td>5</td>\n",
       "      <td>50.322480</td>\n",
       "      <td>0.022114</td>\n",
       "      <td>13</td>\n",
       "    </tr>\n",
       "    <tr>\n",
       "      <th>2</th>\n",
       "      <td>5</td>\n",
       "      <td>89.0</td>\n",
       "      <td>167.64</td>\n",
       "      <td>1</td>\n",
       "      <td>No</td>\n",
       "      <td>1</td>\n",
       "      <td>0</td>\n",
       "      <td>0</td>\n",
       "      <td>0</td>\n",
       "      <td>2</td>\n",
       "      <td>...</td>\n",
       "      <td>0</td>\n",
       "      <td>2</td>\n",
       "      <td>0</td>\n",
       "      <td>1</td>\n",
       "      <td>0</td>\n",
       "      <td>2</td>\n",
       "      <td>5</td>\n",
       "      <td>51.096672</td>\n",
       "      <td>0.034088</td>\n",
       "      <td>-10</td>\n",
       "    </tr>\n",
       "    <tr>\n",
       "      <th>3</th>\n",
       "      <td>0</td>\n",
       "      <td>55.0</td>\n",
       "      <td>160.02</td>\n",
       "      <td>1</td>\n",
       "      <td>No</td>\n",
       "      <td>1</td>\n",
       "      <td>0</td>\n",
       "      <td>2</td>\n",
       "      <td>0</td>\n",
       "      <td>2</td>\n",
       "      <td>...</td>\n",
       "      <td>9</td>\n",
       "      <td>4</td>\n",
       "      <td>0</td>\n",
       "      <td>1</td>\n",
       "      <td>0</td>\n",
       "      <td>2</td>\n",
       "      <td>5</td>\n",
       "      <td>48.774096</td>\n",
       "      <td>0.023120</td>\n",
       "      <td>-28</td>\n",
       "    </tr>\n",
       "    <tr>\n",
       "      <th>4</th>\n",
       "      <td>5</td>\n",
       "      <td>55.0</td>\n",
       "      <td>160.02</td>\n",
       "      <td>1</td>\n",
       "      <td>No</td>\n",
       "      <td>0</td>\n",
       "      <td>0</td>\n",
       "      <td>0</td>\n",
       "      <td>0</td>\n",
       "      <td>0</td>\n",
       "      <td>...</td>\n",
       "      <td>0</td>\n",
       "      <td>1</td>\n",
       "      <td>0</td>\n",
       "      <td>1</td>\n",
       "      <td>0</td>\n",
       "      <td>1</td>\n",
       "      <td>5</td>\n",
       "      <td>48.774096</td>\n",
       "      <td>0.023120</td>\n",
       "      <td>-2</td>\n",
       "    </tr>\n",
       "  </tbody>\n",
       "</table>\n",
       "<p>5 rows × 39 columns</p>\n",
       "</div>"
      ]
     },
     "execution_count": 11,
     "metadata": {},
     "output_type": "execute_result"
    }
   ],
   "execution_count": 11
  },
  {
   "metadata": {},
   "cell_type": "markdown",
   "source": "# **Data Splitting**",
   "id": "d0cb9378f8b8f39f"
  },
  {
   "metadata": {},
   "cell_type": "markdown",
   "source": "# Stratified splitting of the dataset to ensure proper representation of each class in the training and test sets",
   "id": "c1e90d25b4df7c05"
  },
  {
   "metadata": {
    "ExecuteTime": {
     "end_time": "2025-02-12T20:19:11.536924Z",
     "start_time": "2025-02-12T20:19:11.520924Z"
    }
   },
   "cell_type": "code",
   "source": [
    "features = data_filtered.drop(columns=['PCOS'])\n",
    "target = data_filtered['PCOS']\n"
   ],
   "id": "31f871a80808d819",
   "outputs": [],
   "execution_count": 12
  },
  {
   "metadata": {},
   "cell_type": "markdown",
   "source": "# Stratified split to maintain class distribution in both training and test sets",
   "id": "2c0eee38e6710333"
  },
  {
   "metadata": {
    "ExecuteTime": {
     "end_time": "2025-02-12T20:19:11.583435Z",
     "start_time": "2025-02-12T20:19:11.568435Z"
    }
   },
   "cell_type": "code",
   "source": [
    "if len(target.unique()) > 1 and all(target.value_counts() >= 2):\n",
    "    X_train, X_test, y_train, y_test = train_test_split(\n",
    "        features, target, \n",
    "        test_size=0.2, \n",
    "        random_state=42, \n",
    "        stratify=target\n",
    "    )\n",
    "else:\n",
    "    X_train, X_test, y_train, y_test = train_test_split(\n",
    "        features, target, \n",
    "        test_size=0.2, \n",
    "        random_state=42\n",
    "    )"
   ],
   "id": "2097f4d462da7236",
   "outputs": [],
   "execution_count": 13
  },
  {
   "metadata": {},
   "cell_type": "markdown",
   "source": "# **Feature Scaling**",
   "id": "68a71916a38c6111"
  },
  {
   "metadata": {},
   "cell_type": "markdown",
   "source": "# Standardizing numerical features to normalize them for model training",
   "id": "77d1197bd7230edb"
  },
  {
   "metadata": {
    "ExecuteTime": {
     "end_time": "2025-02-12T20:19:11.615434Z",
     "start_time": "2025-02-12T20:19:11.602434Z"
    }
   },
   "cell_type": "code",
   "source": [
    "scaler = StandardScaler()\n",
    "numerical_cols = features.select_dtypes(include=[np.number]).columns\n",
    "\n",
    "X_train[numerical_cols] = scaler.fit_transform(X_train[numerical_cols])\n",
    "X_test[numerical_cols] = scaler.transform(X_test[numerical_cols])"
   ],
   "id": "805d766ff5d273c8",
   "outputs": [],
   "execution_count": 14
  },
  {
   "metadata": {},
   "cell_type": "markdown",
   "source": "# **Model Training**",
   "id": "57de90bedcd73de9"
  },
  {
   "metadata": {},
   "cell_type": "markdown",
   "source": "# We train multiple models and evaluate their accuracy.",
   "id": "abe5f51663be53d4"
  },
  {
   "metadata": {
    "ExecuteTime": {
     "end_time": "2025-02-12T20:19:11.802662Z",
     "start_time": "2025-02-12T20:19:11.648294Z"
    }
   },
   "cell_type": "code",
   "source": [
    "models = {\n",
    "    \"Random Forest\": RandomForestClassifier(random_state=42),\n",
    "    \"Decision Tree\": DecisionTreeClassifier(random_state=42),\n",
    "    \"Logistic Regression\": LogisticRegression(max_iter=1000, random_state=42),\n",
    "    \"MLP\": MLPClassifier(hidden_layer_sizes=(50,), max_iter=1000, random_state=42)\n",
    "}\n",
    "\n",
    "for name, model in models.items():\n",
    "    model.fit(X_train, y_train)\n",
    "    y_pred = model.predict(X_test)\n",
    "    print(f\"\\n{name} Accuracy: {accuracy_score(y_test, y_pred):.4f}\")"
   ],
   "id": "fecf5f235011f013",
   "outputs": [
    {
     "name": "stdout",
     "output_type": "stream",
     "text": [
      "\n",
      "Random Forest Accuracy: 0.8857\n",
      "\n",
      "Decision Tree Accuracy: 0.7429\n",
      "\n",
      "Logistic Regression Accuracy: 0.7429\n",
      "\n",
      "MLP Accuracy: 0.7429\n"
     ]
    }
   ],
   "execution_count": 15
  },
  {
   "metadata": {},
   "cell_type": "markdown",
   "source": "# **Best Model Optimization**",
   "id": "4fd386463c8b05e0"
  },
  {
   "metadata": {},
   "cell_type": "markdown",
   "source": "# Hyperparameter tuning for Random Forest using GridSearchCV",
   "id": "e6a03cd0cb827796"
  },
  {
   "metadata": {
    "ExecuteTime": {
     "end_time": "2025-02-12T20:19:20.730769Z",
     "start_time": "2025-02-12T20:19:11.833816Z"
    }
   },
   "cell_type": "code",
   "source": [
    "param_grid = {\n",
    "    'n_estimators': [50, 100, 200],\n",
    "    'max_depth': [10, 20, None],\n",
    "    'min_samples_split': [2, 5, 10]\n",
    "}\n",
    "\n",
    "rf_search = GridSearchCV(RandomForestClassifier(), param_grid, cv=5)\n",
    "rf_search.fit(X_train, y_train)\n",
    "best_rf = rf_search.best_estimator_"
   ],
   "id": "b3faf1c20dfc9b12",
   "outputs": [],
   "execution_count": 16
  },
  {
   "metadata": {},
   "cell_type": "markdown",
   "source": "# **Final Evaluation**",
   "id": "6af17eebf046a40f"
  },
  {
   "metadata": {},
   "cell_type": "markdown",
   "source": "# Evaluate the best model (Random Forest) on the test set and generate confusion matrix and feature importance plot.",
   "id": "a03cfe1a336a75a2"
  },
  {
   "metadata": {
    "ExecuteTime": {
     "end_time": "2025-02-12T20:19:20.778272Z",
     "start_time": "2025-02-12T20:19:20.763301Z"
    }
   },
   "cell_type": "code",
   "source": [
    "y_pred = best_rf.predict(X_test)\n",
    "print(\"\\nBest Model Test Accuracy:\", accuracy_score(y_test, y_pred))"
   ],
   "id": "23c6c68b930dafa1",
   "outputs": [
    {
     "name": "stdout",
     "output_type": "stream",
     "text": [
      "\n",
      "Best Model Test Accuracy: 0.8571428571428571\n"
     ]
    }
   ],
   "execution_count": 17
  },
  {
   "metadata": {},
   "cell_type": "markdown",
   "source": "# Generate confusion matrix",
   "id": "e0e57aa75b229c3d"
  },
  {
   "metadata": {
    "ExecuteTime": {
     "end_time": "2025-02-12T20:19:20.918346Z",
     "start_time": "2025-02-12T20:19:20.811106Z"
    }
   },
   "cell_type": "code",
   "source": [
    "cm = confusion_matrix(y_test, y_pred)\n",
    "ConfusionMatrixDisplay(cm).plot()\n",
    "plt.title('Final Model Confusion Matrix')\n",
    "plt.show()"
   ],
   "id": "74781c16f4496a09",
   "outputs": [
    {
     "data": {
      "text/plain": [
       "<Figure size 640x480 with 2 Axes>"
      ],
      "image/png": "[encoded data removed]"
     },
     "metadata": {},
     "output_type": "display_data"
    }
   ],
   "execution_count": 18
  },
  {
   "metadata": {},
   "cell_type": "markdown",
   "source": "# Feature Importance Plot",
   "id": "c7f8cdb91e436e18"
  },
  {
   "metadata": {
    "ExecuteTime": {
     "end_time": "2025-02-12T20:19:21.013721Z",
     "start_time": "2025-02-12T20:19:20.951207Z"
    }
   },
   "cell_type": "code",
   "source": [
    "importances = best_rf.feature_importances_\n",
    "pd.Series(importances, index=features.columns).nlargest(10).plot(kind='barh')\n",
    "plt.title('Top 10 Predictive Features')\n",
    "plt.show()"
   ],
   "id": "d3435cc140b32d70",
   "outputs": [
    {
     "data": {
      "text/plain": [
       "<Figure size 640x480 with 1 Axes>"
      ],
      "image/png": "[encoded data removed]"
     },
     "metadata": {},
     "output_type": "display_data"
    }
   ],
   "execution_count": 19
  }
 ],
 "metadata": {
  "kernelspec": {
   "display_name": "Python 3 (ipykernel)",
   "language": "python",
   "name": "python3"
  },
  "language_info": {
   "codemirror_mode": {
    "name": "ipython",
    "version": 3
   },
   "file_extension": ".py",
   "mimetype": "text/x-python",
   "name": "python",
   "nbconvert_exporter": "python",
   "pygments_lexer": "ipython3",
   "version": "3.10.0"
  }
 },
 "nbformat": 4,
 "nbformat_minor": 5
}
