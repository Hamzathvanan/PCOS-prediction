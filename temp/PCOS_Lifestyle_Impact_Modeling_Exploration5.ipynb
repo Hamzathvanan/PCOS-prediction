{
 "cells": [
  {
   "metadata": {},
   "cell_type": "markdown",
   "source": [
    "# **PCOS Lifestyle Impact Prediction with Gradio Interface**\n",
    "# This notebook implements a series of machine learning models to predict the likelihood of PCOS based on lifestyle factors. \n",
    "# The models include Random Forest, Decision Trees, Logistic Regression, and MLP.\n",
    "# We also use Gradio to provide real-time predictions and visualize the results interactively.\n",
    "\n",
    "# Import necessary libraries"
   ],
   "id": "b0468878c5134dc2"
  },
  {
   "metadata": {
    "ExecuteTime": {
     "end_time": "2025-02-21T20:20:38.259796Z",
     "start_time": "2025-02-21T20:20:36.884481Z"
    }
   },
   "cell_type": "code",
   "source": [
    "import numpy as np\n",
    "import pandas as pd\n",
    "import matplotlib.pyplot as plt\n",
    "import seaborn as sns\n",
    "from sklearn.preprocessing import LabelEncoder, StandardScaler\n",
    "from sklearn.model_selection import train_test_split, GridSearchCV\n",
    "from sklearn.ensemble import RandomForestClassifier\n",
    "from sklearn.metrics import accuracy_score, confusion_matrix, ConfusionMatrixDisplay, roc_curve, auc, \\\n",
    "    classification_report, precision_recall_curve\n",
    "from sklearn.linear_model import LogisticRegression\n",
    "from sklearn.tree import DecisionTreeClassifier\n",
    "from sklearn.neural_network import MLPClassifier\n",
    "from sklearn.impute import SimpleImputer\n",
    "import gradio as gr"
   ],
   "id": "7c1bed0e9f26ad0e",
   "outputs": [],
   "execution_count": 1
  },
  {
   "metadata": {
    "ExecuteTime": {
     "end_time": "2025-02-21T20:20:38.275301Z",
     "start_time": "2025-02-21T20:20:38.265302Z"
    }
   },
   "cell_type": "code",
   "source": [
    "# **Load the Dataset**\n",
    "df = pd.read_csv('input/Cleaned-Data.csv')\n",
    "print(\"Initial dataset shape:\", df.shape)"
   ],
   "id": "6057ce6667c0bf4c",
   "outputs": [
    {
     "name": "stdout",
     "output_type": "stream",
     "text": [
      "Initial dataset shape: (173, 36)\n"
     ]
    }
   ],
   "execution_count": 2
  },
  {
   "metadata": {
    "ExecuteTime": {
     "end_time": "2025-02-21T20:20:38.400682Z",
     "start_time": "2025-02-21T20:20:38.369683Z"
    }
   },
   "cell_type": "code",
   "source": [
    "# **Data Preprocessing and Validation**\n",
    "df.describe(), df.info()"
   ],
   "id": "59e975a53d079f16",
   "outputs": [
    {
     "name": "stdout",
     "output_type": "stream",
     "text": [
      "<class 'pandas.core.frame.DataFrame'>\n",
      "RangeIndex: 173 entries, 0 to 172\n",
      "Data columns (total 36 columns):\n",
      " #   Column                      Non-Null Count  Dtype  \n",
      "---  ------                      --------------  -----  \n",
      " 0   Age                         173 non-null    object \n",
      " 1   Weight_kg                   173 non-null    float64\n",
      " 2   Height_ft                   173 non-null    float64\n",
      " 3   Marital_Status              173 non-null    object \n",
      " 4   PCOS                        173 non-null    object \n",
      " 5   Family_History_PCOS         173 non-null    object \n",
      " 6   Menstrual_Irregularity      173 non-null    object \n",
      " 7   Hormonal_Imbalance          173 non-null    object \n",
      " 8   Hyperandrogenism            173 non-null    object \n",
      " 9   Hirsutism                   173 non-null    object \n",
      " 10  Mental_Health               173 non-null    object \n",
      " 11  Conception_Difficulty       173 non-null    object \n",
      " 12  Insulin_Resistance          173 non-null    object \n",
      " 13  Diabetes                    173 non-null    object \n",
      " 14  Childhood_Trauma            173 non-null    object \n",
      " 15  Cardiovascular_Disease      173 non-null    object \n",
      " 16  Diet_Bread_Cereals          173 non-null    int64  \n",
      " 17  Diet_Milk_Products          173 non-null    int64  \n",
      " 18  Diet_Fruits                 173 non-null    int64  \n",
      " 19  Diet_Vegetables             173 non-null    int64  \n",
      " 20  Diet_Starchy_Vegetables     173 non-null    int64  \n",
      " 21  Diet_NonStarchy_Vegetables  173 non-null    int64  \n",
      " 22  Diet_Fats                   173 non-null    int64  \n",
      " 23  Diet_Sweets                 173 non-null    int64  \n",
      " 24  Diet_Fried_Food             173 non-null    int64  \n",
      " 25  Diet_Tea_Coffee             173 non-null    int64  \n",
      " 26  Diet_Multivitamin           173 non-null    int64  \n",
      " 27  Vegetarian                  173 non-null    object \n",
      " 28  Exercise_Frequency          173 non-null    object \n",
      " 29  Exercise_Type               173 non-null    object \n",
      " 30  Exercise_Duration           173 non-null    object \n",
      " 31  Sleep_Hours                 173 non-null    object \n",
      " 32  Stress_Level                173 non-null    object \n",
      " 33  Smoking                     173 non-null    object \n",
      " 34  Exercise_Benefit            173 non-null    object \n",
      " 35  PCOS_Medication             173 non-null    object \n",
      "dtypes: float64(2), int64(11), object(23)\n",
      "memory usage: 48.8+ KB\n"
     ]
    },
    {
     "data": {
      "text/plain": [
       "(        Weight_kg   Height_ft  Diet_Bread_Cereals  Diet_Milk_Products  \\\n",
       " count  173.000000  173.000000          173.000000          173.000000   \n",
       " mean    56.549711  160.636647            5.445087            3.647399   \n",
       " std     12.025369    7.287373            2.116832            2.548930   \n",
       " min     36.000000  124.460000            0.000000            0.000000   \n",
       " 25%     49.000000  157.480000            4.000000            1.000000   \n",
       " 50%     55.000000  160.020000            7.000000            3.000000   \n",
       " 75%     64.000000  165.100000            7.000000            7.000000   \n",
       " max    115.000000  182.880000            7.000000            7.000000   \n",
       " \n",
       "        Diet_Fruits  Diet_Vegetables  Diet_Starchy_Vegetables  \\\n",
       " count   173.000000       173.000000               173.000000   \n",
       " mean      3.034682         3.439306                 3.069364   \n",
       " std       2.048527         1.769596                 1.857054   \n",
       " min       0.000000         0.000000                 0.000000   \n",
       " 25%       1.000000         2.000000                 2.000000   \n",
       " 50%       3.000000         3.000000                 3.000000   \n",
       " 75%       4.000000         5.000000                 4.000000   \n",
       " max       7.000000         7.000000                 7.000000   \n",
       " \n",
       "        Diet_NonStarchy_Vegetables   Diet_Fats  Diet_Sweets  Diet_Fried_Food  \\\n",
       " count                  173.000000  173.000000   173.000000       173.000000   \n",
       " mean                     2.450867    4.531792     3.618497         3.179191   \n",
       " std                      1.709808    2.293919     2.255253         2.019448   \n",
       " min                      0.000000    0.000000     0.000000         0.000000   \n",
       " 25%                      1.000000    2.000000     2.000000         1.000000   \n",
       " 50%                      2.000000    5.000000     3.000000         3.000000   \n",
       " 75%                      3.000000    7.000000     6.000000         5.000000   \n",
       " max                      7.000000    7.000000     7.000000         7.000000   \n",
       " \n",
       "        Diet_Tea_Coffee  Diet_Multivitamin  \n",
       " count       173.000000         173.000000  \n",
       " mean          4.549133           1.393064  \n",
       " std           2.785795           2.326880  \n",
       " min           0.000000           0.000000  \n",
       " 25%           2.000000           0.000000  \n",
       " 50%           6.000000           0.000000  \n",
       " 75%           7.000000           2.000000  \n",
       " max           7.000000           7.000000  ,\n",
       " None)"
      ]
     },
     "execution_count": 3,
     "metadata": {},
     "output_type": "execute_result"
    }
   ],
   "execution_count": 3
  },
  {
   "metadata": {
    "ExecuteTime": {
     "end_time": "2025-02-21T20:20:38.431519Z",
     "start_time": "2025-02-21T20:20:38.417358Z"
    }
   },
   "cell_type": "code",
   "source": [
    "# Check for missing values in the target column ('PCOS')\n",
    "print(\"\\nMissing values per column:\")\n",
    "print(df.isnull().sum())"
   ],
   "id": "50083ce2ccdd3416",
   "outputs": [
    {
     "name": "stdout",
     "output_type": "stream",
     "text": [
      "\n",
      "Missing values per column:\n",
      "Age                           0\n",
      "Weight_kg                     0\n",
      "Height_ft                     0\n",
      "Marital_Status                0\n",
      "PCOS                          0\n",
      "Family_History_PCOS           0\n",
      "Menstrual_Irregularity        0\n",
      "Hormonal_Imbalance            0\n",
      "Hyperandrogenism              0\n",
      "Hirsutism                     0\n",
      "Mental_Health                 0\n",
      "Conception_Difficulty         0\n",
      "Insulin_Resistance            0\n",
      "Diabetes                      0\n",
      "Childhood_Trauma              0\n",
      "Cardiovascular_Disease        0\n",
      "Diet_Bread_Cereals            0\n",
      "Diet_Milk_Products            0\n",
      "Diet_Fruits                   0\n",
      "Diet_Vegetables               0\n",
      "Diet_Starchy_Vegetables       0\n",
      "Diet_NonStarchy_Vegetables    0\n",
      "Diet_Fats                     0\n",
      "Diet_Sweets                   0\n",
      "Diet_Fried_Food               0\n",
      "Diet_Tea_Coffee               0\n",
      "Diet_Multivitamin             0\n",
      "Vegetarian                    0\n",
      "Exercise_Frequency            0\n",
      "Exercise_Type                 0\n",
      "Exercise_Duration             0\n",
      "Sleep_Hours                   0\n",
      "Stress_Level                  0\n",
      "Smoking                       0\n",
      "Exercise_Benefit              0\n",
      "PCOS_Medication               0\n",
      "dtype: int64\n"
     ]
    }
   ],
   "execution_count": 4
  },
  {
   "metadata": {
    "ExecuteTime": {
     "end_time": "2025-02-21T20:20:38.462155Z",
     "start_time": "2025-02-21T20:20:38.447339Z"
    }
   },
   "cell_type": "code",
   "source": [
    "# Impute missing values for numerical columns\n",
    "numerical_cols = df.select_dtypes(include=[np.number]).columns\n",
    "imputer = SimpleImputer(strategy='median')\n",
    "df[numerical_cols] = imputer.fit_transform(df[numerical_cols])"
   ],
   "id": "7d306e41d6cedf7",
   "outputs": [],
   "execution_count": 5
  },
  {
   "metadata": {
    "ExecuteTime": {
     "end_time": "2025-02-21T20:20:38.493197Z",
     "start_time": "2025-02-21T20:20:38.479198Z"
    }
   },
   "cell_type": "code",
   "source": [
    "# Check again after imputation\n",
    "print(\"\\nMissing values after imputation:\")\n",
    "print(df.isnull().sum())"
   ],
   "id": "8279edef76d64921",
   "outputs": [
    {
     "name": "stdout",
     "output_type": "stream",
     "text": [
      "\n",
      "Missing values after imputation:\n",
      "Age                           0\n",
      "Weight_kg                     0\n",
      "Height_ft                     0\n",
      "Marital_Status                0\n",
      "PCOS                          0\n",
      "Family_History_PCOS           0\n",
      "Menstrual_Irregularity        0\n",
      "Hormonal_Imbalance            0\n",
      "Hyperandrogenism              0\n",
      "Hirsutism                     0\n",
      "Mental_Health                 0\n",
      "Conception_Difficulty         0\n",
      "Insulin_Resistance            0\n",
      "Diabetes                      0\n",
      "Childhood_Trauma              0\n",
      "Cardiovascular_Disease        0\n",
      "Diet_Bread_Cereals            0\n",
      "Diet_Milk_Products            0\n",
      "Diet_Fruits                   0\n",
      "Diet_Vegetables               0\n",
      "Diet_Starchy_Vegetables       0\n",
      "Diet_NonStarchy_Vegetables    0\n",
      "Diet_Fats                     0\n",
      "Diet_Sweets                   0\n",
      "Diet_Fried_Food               0\n",
      "Diet_Tea_Coffee               0\n",
      "Diet_Multivitamin             0\n",
      "Vegetarian                    0\n",
      "Exercise_Frequency            0\n",
      "Exercise_Type                 0\n",
      "Exercise_Duration             0\n",
      "Sleep_Hours                   0\n",
      "Stress_Level                  0\n",
      "Smoking                       0\n",
      "Exercise_Benefit              0\n",
      "PCOS_Medication               0\n",
      "dtype: int64\n"
     ]
    }
   ],
   "execution_count": 6
  },
  {
   "metadata": {
    "ExecuteTime": {
     "end_time": "2025-02-21T20:20:38.523389Z",
     "start_time": "2025-02-21T20:20:38.509177Z"
    }
   },
   "cell_type": "code",
   "source": [
    "# **Handle Categorical Variables**\n",
    "# Label encode target column 'PCOS' as 1 and 0\n",
    "df['PCOS'] = df['PCOS'].map({'Yes': 1, 'No': 0})"
   ],
   "id": "f85f88f041f2c794",
   "outputs": [],
   "execution_count": 7
  },
  {
   "metadata": {
    "ExecuteTime": {
     "end_time": "2025-02-21T20:20:38.553888Z",
     "start_time": "2025-02-21T20:20:38.539203Z"
    }
   },
   "cell_type": "code",
   "source": [
    "# Impute missing values for categorical columns\n",
    "categorical_cols = df.select_dtypes(include=['object']).columns\n",
    "for col in categorical_cols:\n",
    "    if df[col].isnull().sum() > 0:\n",
    "        df[col].fillna(df[col].mode()[0], inplace=True) "
   ],
   "id": "5ec12f09d6d6c698",
   "outputs": [],
   "execution_count": 8
  },
  {
   "metadata": {
    "ExecuteTime": {
     "end_time": "2025-02-21T20:20:38.584875Z",
     "start_time": "2025-02-21T20:20:38.570425Z"
    }
   },
   "cell_type": "code",
   "source": [
    "# Use LabelEncoder to encode categorical columns\n",
    "data_encoded = df.copy()\n",
    "le = LabelEncoder()\n",
    "for col in categorical_cols:\n",
    "    if col != 'PCOS':  # Skip target column\n",
    "        data_encoded[col] = le.fit_transform(data_encoded[col])"
   ],
   "id": "85a9b9c6a665a67b",
   "outputs": [],
   "execution_count": 9
  },
  {
   "metadata": {
    "ExecuteTime": {
     "end_time": "2025-02-21T20:20:38.615518Z",
     "start_time": "2025-02-21T20:20:38.601393Z"
    }
   },
   "cell_type": "code",
   "source": [
    "# **Feature Engineering**\n",
    "# Calculate BMI\n",
    "df['Height_m'] = df['Height_ft'] * 0.3048  # Convert height to meters\n",
    "df['BMI'] = df['Weight_kg'] / (df['Height_m'] ** 2)"
   ],
   "id": "fe0e1c08272eb7cf",
   "outputs": [],
   "execution_count": 10
  },
  {
   "metadata": {
    "ExecuteTime": {
     "end_time": "2025-02-21T20:20:38.646482Z",
     "start_time": "2025-02-21T20:20:38.631378Z"
    }
   },
   "cell_type": "code",
   "source": [
    "# Nutritional Score based on diet columns\n",
    "nutrition_weights = {\n",
    "    'Diet_Bread_Cereals': 1,\n",
    "    'Diet_Milk_Products': 1,\n",
    "    'Diet_Fruits': 2,\n",
    "    'Diet_Vegetables': 2,\n",
    "    'Diet_Starchy_Vegetables': -1,\n",
    "    'Diet_NonStarchy_Vegetables': 2,\n",
    "    'Diet_Fats': -2,\n",
    "    'Diet_Sweets': -3,\n",
    "    'Diet_Fried_Food': -3,\n",
    "    'Diet_Tea_Coffee': 0,\n",
    "}\n",
    "df['Nutritional_Score'] = df[nutrition_weights.keys()].dot(pd.Series(nutrition_weights))"
   ],
   "id": "d61d3d90ac180007",
   "outputs": [],
   "execution_count": 11
  },
  {
   "metadata": {
    "ExecuteTime": {
     "end_time": "2025-02-21T20:20:38.678409Z",
     "start_time": "2025-02-21T20:20:38.662297Z"
    }
   },
   "cell_type": "code",
   "source": [
    "# **Data Splitting**\n",
    "features = data_encoded.drop(columns=['PCOS'])\n",
    "target = data_encoded['PCOS']"
   ],
   "id": "7696f28c02865aa6",
   "outputs": [],
   "execution_count": 12
  },
  {
   "metadata": {
    "ExecuteTime": {
     "end_time": "2025-02-21T20:20:38.710410Z",
     "start_time": "2025-02-21T20:20:38.695410Z"
    }
   },
   "cell_type": "code",
   "source": [
    "# Check for NaN values in the target variable (PCOS)\n",
    "print(\"\\nChecking for NaN values in target variable 'PCOS':\")\n",
    "print(target.isnull().sum())"
   ],
   "id": "838a0e60055b41b8",
   "outputs": [
    {
     "name": "stdout",
     "output_type": "stream",
     "text": [
      "\n",
      "Checking for NaN values in target variable 'PCOS':\n",
      "1\n"
     ]
    }
   ],
   "execution_count": 13
  },
  {
   "metadata": {
    "ExecuteTime": {
     "end_time": "2025-02-21T20:20:38.741338Z",
     "start_time": "2025-02-21T20:20:38.727107Z"
    }
   },
   "cell_type": "code",
   "source": [
    "# If there are any missing values, handle them explicitly\n",
    "target = target.fillna(0)"
   ],
   "id": "e19ae5587bbd54f5",
   "outputs": [],
   "execution_count": 14
  },
  {
   "metadata": {
    "ExecuteTime": {
     "end_time": "2025-02-21T20:20:38.772380Z",
     "start_time": "2025-02-21T20:20:38.758091Z"
    }
   },
   "cell_type": "code",
   "source": [
    "# Stratified split to maintain class distribution\n",
    "X_train, X_test, y_train, y_test = train_test_split(features, target, test_size=0.2, random_state=42, stratify=target)"
   ],
   "id": "d1028b9ece7edb46",
   "outputs": [],
   "execution_count": 15
  },
  {
   "metadata": {
    "ExecuteTime": {
     "end_time": "2025-02-21T20:20:38.818253Z",
     "start_time": "2025-02-21T20:20:38.804253Z"
    }
   },
   "cell_type": "code",
   "source": [
    "# **Feature Scaling**\n",
    "scaler = StandardScaler()\n",
    "numerical_cols = features.select_dtypes(include=[np.number]).columns\n",
    "\n",
    "X_train[numerical_cols] = scaler.fit_transform(X_train[numerical_cols])\n",
    "X_test[numerical_cols] = scaler.transform(X_test[numerical_cols])"
   ],
   "id": "67119d6e5c1dd64c",
   "outputs": [],
   "execution_count": 16
  },
  {
   "metadata": {
    "ExecuteTime": {
     "end_time": "2025-02-21T20:20:38.864878Z",
     "start_time": "2025-02-21T20:20:38.850671Z"
    }
   },
   "cell_type": "code",
   "source": [
    "# **Model Evaluation**\n",
    "models = {\n",
    "    \"Random Forest\": RandomForestClassifier(random_state=42),\n",
    "    \"Decision Tree\": DecisionTreeClassifier(random_state=42),\n",
    "    \"Logistic Regression\": LogisticRegression(max_iter=1000, random_state=42),\n",
    "    \"MLP\": MLPClassifier(hidden_layer_sizes=(50,), max_iter=1000, random_state=42)\n",
    "}"
   ],
   "id": "c343bea9d4ef5891",
   "outputs": [],
   "execution_count": 17
  },
  {
   "metadata": {
    "ExecuteTime": {
     "end_time": "2025-02-21T20:20:39.083651Z",
     "start_time": "2025-02-21T20:20:38.897295Z"
    }
   },
   "cell_type": "code",
   "source": [
    "# Train and evaluate each model\n",
    "for name, model in models.items():\n",
    "    model.fit(X_train, y_train)\n",
    "    y_pred = model.predict(X_test)\n",
    "    print(f\"\\n{name} Accuracy: {accuracy_score(y_test, y_pred):.4f}\")\n",
    "    print(f\"Classification Report for {name}:\\n\", classification_report(y_test, y_pred))"
   ],
   "id": "dcc6d9b39324d12a",
   "outputs": [
    {
     "name": "stdout",
     "output_type": "stream",
     "text": [
      "\n",
      "Random Forest Accuracy: 0.8571\n",
      "Classification Report for Random Forest:\n",
      "               precision    recall  f1-score   support\n",
      "\n",
      "         0.0       0.87      0.96      0.91        27\n",
      "         1.0       0.80      0.50      0.62         8\n",
      "\n",
      "    accuracy                           0.86        35\n",
      "   macro avg       0.83      0.73      0.76        35\n",
      "weighted avg       0.85      0.86      0.84        35\n",
      "\n",
      "\n",
      "Decision Tree Accuracy: 0.8000\n",
      "Classification Report for Decision Tree:\n",
      "               precision    recall  f1-score   support\n",
      "\n",
      "         0.0       0.88      0.85      0.87        27\n",
      "         1.0       0.56      0.62      0.59         8\n",
      "\n",
      "    accuracy                           0.80        35\n",
      "   macro avg       0.72      0.74      0.73        35\n",
      "weighted avg       0.81      0.80      0.80        35\n",
      "\n",
      "\n",
      "Logistic Regression Accuracy: 0.7714\n",
      "Classification Report for Logistic Regression:\n",
      "               precision    recall  f1-score   support\n",
      "\n",
      "         0.0       0.88      0.81      0.85        27\n",
      "         1.0       0.50      0.62      0.56         8\n",
      "\n",
      "    accuracy                           0.77        35\n",
      "   macro avg       0.69      0.72      0.70        35\n",
      "weighted avg       0.79      0.77      0.78        35\n",
      "\n",
      "\n",
      "MLP Accuracy: 0.7429\n",
      "Classification Report for MLP:\n",
      "               precision    recall  f1-score   support\n",
      "\n",
      "         0.0       0.85      0.81      0.83        27\n",
      "         1.0       0.44      0.50      0.47         8\n",
      "\n",
      "    accuracy                           0.74        35\n",
      "   macro avg       0.65      0.66      0.65        35\n",
      "weighted avg       0.75      0.74      0.75        35\n",
      "\n"
     ]
    }
   ],
   "execution_count": 18
  },
  {
   "metadata": {
    "ExecuteTime": {
     "end_time": "2025-02-21T20:20:39.178764Z",
     "start_time": "2025-02-21T20:20:39.116122Z"
    }
   },
   "cell_type": "code",
   "source": [
    "# **Feature Importance and Visualization**\n",
    "# Use Random Forest to evaluate feature importance\n",
    "rf_model = RandomForestClassifier(random_state=42)\n",
    "rf_model.fit(X_train, y_train)"
   ],
   "id": "fb60b2273c5583d7",
   "outputs": [
    {
     "data": {
      "text/plain": [
       "RandomForestClassifier(random_state=42)"
      ],
      "text/html": [
       "<style>#sk-container-id-1 {\n",
       "  /* Definition of color scheme common for light and dark mode */\n",
       "  --sklearn-color-text: #000;\n",
       "  --sklearn-color-text-muted: #666;\n",
       "  --sklearn-color-line: gray;\n",
       "  /* Definition of color scheme for unfitted estimators */\n",
       "  --sklearn-color-unfitted-level-0: #fff5e6;\n",
       "  --sklearn-color-unfitted-level-1: #f6e4d2;\n",
       "  --sklearn-color-unfitted-level-2: #ffe0b3;\n",
       "  --sklearn-color-unfitted-level-3: chocolate;\n",
       "  /* Definition of color scheme for fitted estimators */\n",
       "  --sklearn-color-fitted-level-0: #f0f8ff;\n",
       "  --sklearn-color-fitted-level-1: #d4ebff;\n",
       "  --sklearn-color-fitted-level-2: #b3dbfd;\n",
       "  --sklearn-color-fitted-level-3: cornflowerblue;\n",
       "\n",
       "  /* Specific color for light theme */\n",
       "  --sklearn-color-text-on-default-background: var(--sg-text-color, var(--theme-code-foreground, var(--jp-content-font-color1, black)));\n",
       "  --sklearn-color-background: var(--sg-background-color, var(--theme-background, var(--jp-layout-color0, white)));\n",
       "  --sklearn-color-border-box: var(--sg-text-color, var(--theme-code-foreground, var(--jp-content-font-color1, black)));\n",
       "  --sklearn-color-icon: #696969;\n",
       "\n",
       "  @media (prefers-color-scheme: dark) {\n",
       "    /* Redefinition of color scheme for dark theme */\n",
       "    --sklearn-color-text-on-default-background: var(--sg-text-color, var(--theme-code-foreground, var(--jp-content-font-color1, white)));\n",
       "    --sklearn-color-background: var(--sg-background-color, var(--theme-background, var(--jp-layout-color0, #111)));\n",
       "    --sklearn-color-border-box: var(--sg-text-color, var(--theme-code-foreground, var(--jp-content-font-color1, white)));\n",
       "    --sklearn-color-icon: #878787;\n",
       "  }\n",
       "}\n",
       "\n",
       "#sk-container-id-1 {\n",
       "  color: var(--sklearn-color-text);\n",
       "}\n",
       "\n",
       "#sk-container-id-1 pre {\n",
       "  padding: 0;\n",
       "}\n",
       "\n",
       "#sk-container-id-1 input.sk-hidden--visually {\n",
       "  border: 0;\n",
       "  clip: rect(1px 1px 1px 1px);\n",
       "  clip: rect(1px, 1px, 1px, 1px);\n",
       "  height: 1px;\n",
       "  margin: -1px;\n",
       "  overflow: hidden;\n",
       "  padding: 0;\n",
       "  position: absolute;\n",
       "  width: 1px;\n",
       "}\n",
       "\n",
       "#sk-container-id-1 div.sk-dashed-wrapped {\n",
       "  border: 1px dashed var(--sklearn-color-line);\n",
       "  margin: 0 0.4em 0.5em 0.4em;\n",
       "  box-sizing: border-box;\n",
       "  padding-bottom: 0.4em;\n",
       "  background-color: var(--sklearn-color-background);\n",
       "}\n",
       "\n",
       "#sk-container-id-1 div.sk-container {\n",
       "  /* jupyter's `normalize.less` sets `[hidden] { display: none; }`\n",
       "     but bootstrap.min.css set `[hidden] { display: none !important; }`\n",
       "     so we also need the `!important` here to be able to override the\n",
       "     default hidden behavior on the sphinx rendered scikit-learn.org.\n",
       "     See: https://github.com/scikit-learn/scikit-learn/issues/21755 */\n",
       "  display: inline-block !important;\n",
       "  position: relative;\n",
       "}\n",
       "\n",
       "#sk-container-id-1 div.sk-text-repr-fallback {\n",
       "  display: none;\n",
       "}\n",
       "\n",
       "div.sk-parallel-item,\n",
       "div.sk-serial,\n",
       "div.sk-item {\n",
       "  /* draw centered vertical line to link estimators */\n",
       "  background-image: linear-gradient(var(--sklearn-color-text-on-default-background), var(--sklearn-color-text-on-default-background));\n",
       "  background-size: 2px 100%;\n",
       "  background-repeat: no-repeat;\n",
       "  background-position: center center;\n",
       "}\n",
       "\n",
       "/* Parallel-specific style estimator block */\n",
       "\n",
       "#sk-container-id-1 div.sk-parallel-item::after {\n",
       "  content: \"\";\n",
       "  width: 100%;\n",
       "  border-bottom: 2px solid var(--sklearn-color-text-on-default-background);\n",
       "  flex-grow: 1;\n",
       "}\n",
       "\n",
       "#sk-container-id-1 div.sk-parallel {\n",
       "  display: flex;\n",
       "  align-items: stretch;\n",
       "  justify-content: center;\n",
       "  background-color: var(--sklearn-color-background);\n",
       "  position: relative;\n",
       "}\n",
       "\n",
       "#sk-container-id-1 div.sk-parallel-item {\n",
       "  display: flex;\n",
       "  flex-direction: column;\n",
       "}\n",
       "\n",
       "#sk-container-id-1 div.sk-parallel-item:first-child::after {\n",
       "  align-self: flex-end;\n",
       "  width: 50%;\n",
       "}\n",
       "\n",
       "#sk-container-id-1 div.sk-parallel-item:last-child::after {\n",
       "  align-self: flex-start;\n",
       "  width: 50%;\n",
       "}\n",
       "\n",
       "#sk-container-id-1 div.sk-parallel-item:only-child::after {\n",
       "  width: 0;\n",
       "}\n",
       "\n",
       "/* Serial-specific style estimator block */\n",
       "\n",
       "#sk-container-id-1 div.sk-serial {\n",
       "  display: flex;\n",
       "  flex-direction: column;\n",
       "  align-items: center;\n",
       "  background-color: var(--sklearn-color-background);\n",
       "  padding-right: 1em;\n",
       "  padding-left: 1em;\n",
       "}\n",
       "\n",
       "\n",
       "/* Toggleable style: style used for estimator/Pipeline/ColumnTransformer box that is\n",
       "clickable and can be expanded/collapsed.\n",
       "- Pipeline and ColumnTransformer use this feature and define the default style\n",
       "- Estimators will overwrite some part of the style using the `sk-estimator` class\n",
       "*/\n",
       "\n",
       "/* Pipeline and ColumnTransformer style (default) */\n",
       "\n",
       "#sk-container-id-1 div.sk-toggleable {\n",
       "  /* Default theme specific background. It is overwritten whether we have a\n",
       "  specific estimator or a Pipeline/ColumnTransformer */\n",
       "  background-color: var(--sklearn-color-background);\n",
       "}\n",
       "\n",
       "/* Toggleable label */\n",
       "#sk-container-id-1 label.sk-toggleable__label {\n",
       "  cursor: pointer;\n",
       "  display: flex;\n",
       "  width: 100%;\n",
       "  margin-bottom: 0;\n",
       "  padding: 0.5em;\n",
       "  box-sizing: border-box;\n",
       "  text-align: center;\n",
       "  align-items: start;\n",
       "  justify-content: space-between;\n",
       "  gap: 0.5em;\n",
       "}\n",
       "\n",
       "#sk-container-id-1 label.sk-toggleable__label .caption {\n",
       "  font-size: 0.6rem;\n",
       "  font-weight: lighter;\n",
       "  color: var(--sklearn-color-text-muted);\n",
       "}\n",
       "\n",
       "#sk-container-id-1 label.sk-toggleable__label-arrow:before {\n",
       "  /* Arrow on the left of the label */\n",
       "  content: \"▸\";\n",
       "  float: left;\n",
       "  margin-right: 0.25em;\n",
       "  color: var(--sklearn-color-icon);\n",
       "}\n",
       "\n",
       "#sk-container-id-1 label.sk-toggleable__label-arrow:hover:before {\n",
       "  color: var(--sklearn-color-text);\n",
       "}\n",
       "\n",
       "/* Toggleable content - dropdown */\n",
       "\n",
       "#sk-container-id-1 div.sk-toggleable__content {\n",
       "  max-height: 0;\n",
       "  max-width: 0;\n",
       "  overflow: hidden;\n",
       "  text-align: left;\n",
       "  /* unfitted */\n",
       "  background-color: var(--sklearn-color-unfitted-level-0);\n",
       "}\n",
       "\n",
       "#sk-container-id-1 div.sk-toggleable__content.fitted {\n",
       "  /* fitted */\n",
       "  background-color: var(--sklearn-color-fitted-level-0);\n",
       "}\n",
       "\n",
       "#sk-container-id-1 div.sk-toggleable__content pre {\n",
       "  margin: 0.2em;\n",
       "  border-radius: 0.25em;\n",
       "  color: var(--sklearn-color-text);\n",
       "  /* unfitted */\n",
       "  background-color: var(--sklearn-color-unfitted-level-0);\n",
       "}\n",
       "\n",
       "#sk-container-id-1 div.sk-toggleable__content.fitted pre {\n",
       "  /* unfitted */\n",
       "  background-color: var(--sklearn-color-fitted-level-0);\n",
       "}\n",
       "\n",
       "#sk-container-id-1 input.sk-toggleable__control:checked~div.sk-toggleable__content {\n",
       "  /* Expand drop-down */\n",
       "  max-height: 200px;\n",
       "  max-width: 100%;\n",
       "  overflow: auto;\n",
       "}\n",
       "\n",
       "#sk-container-id-1 input.sk-toggleable__control:checked~label.sk-toggleable__label-arrow:before {\n",
       "  content: \"▾\";\n",
       "}\n",
       "\n",
       "/* Pipeline/ColumnTransformer-specific style */\n",
       "\n",
       "#sk-container-id-1 div.sk-label input.sk-toggleable__control:checked~label.sk-toggleable__label {\n",
       "  color: var(--sklearn-color-text);\n",
       "  background-color: var(--sklearn-color-unfitted-level-2);\n",
       "}\n",
       "\n",
       "#sk-container-id-1 div.sk-label.fitted input.sk-toggleable__control:checked~label.sk-toggleable__label {\n",
       "  background-color: var(--sklearn-color-fitted-level-2);\n",
       "}\n",
       "\n",
       "/* Estimator-specific style */\n",
       "\n",
       "/* Colorize estimator box */\n",
       "#sk-container-id-1 div.sk-estimator input.sk-toggleable__control:checked~label.sk-toggleable__label {\n",
       "  /* unfitted */\n",
       "  background-color: var(--sklearn-color-unfitted-level-2);\n",
       "}\n",
       "\n",
       "#sk-container-id-1 div.sk-estimator.fitted input.sk-toggleable__control:checked~label.sk-toggleable__label {\n",
       "  /* fitted */\n",
       "  background-color: var(--sklearn-color-fitted-level-2);\n",
       "}\n",
       "\n",
       "#sk-container-id-1 div.sk-label label.sk-toggleable__label,\n",
       "#sk-container-id-1 div.sk-label label {\n",
       "  /* The background is the default theme color */\n",
       "  color: var(--sklearn-color-text-on-default-background);\n",
       "}\n",
       "\n",
       "/* On hover, darken the color of the background */\n",
       "#sk-container-id-1 div.sk-label:hover label.sk-toggleable__label {\n",
       "  color: var(--sklearn-color-text);\n",
       "  background-color: var(--sklearn-color-unfitted-level-2);\n",
       "}\n",
       "\n",
       "/* Label box, darken color on hover, fitted */\n",
       "#sk-container-id-1 div.sk-label.fitted:hover label.sk-toggleable__label.fitted {\n",
       "  color: var(--sklearn-color-text);\n",
       "  background-color: var(--sklearn-color-fitted-level-2);\n",
       "}\n",
       "\n",
       "/* Estimator label */\n",
       "\n",
       "#sk-container-id-1 div.sk-label label {\n",
       "  font-family: monospace;\n",
       "  font-weight: bold;\n",
       "  display: inline-block;\n",
       "  line-height: 1.2em;\n",
       "}\n",
       "\n",
       "#sk-container-id-1 div.sk-label-container {\n",
       "  text-align: center;\n",
       "}\n",
       "\n",
       "/* Estimator-specific */\n",
       "#sk-container-id-1 div.sk-estimator {\n",
       "  font-family: monospace;\n",
       "  border: 1px dotted var(--sklearn-color-border-box);\n",
       "  border-radius: 0.25em;\n",
       "  box-sizing: border-box;\n",
       "  margin-bottom: 0.5em;\n",
       "  /* unfitted */\n",
       "  background-color: var(--sklearn-color-unfitted-level-0);\n",
       "}\n",
       "\n",
       "#sk-container-id-1 div.sk-estimator.fitted {\n",
       "  /* fitted */\n",
       "  background-color: var(--sklearn-color-fitted-level-0);\n",
       "}\n",
       "\n",
       "/* on hover */\n",
       "#sk-container-id-1 div.sk-estimator:hover {\n",
       "  /* unfitted */\n",
       "  background-color: var(--sklearn-color-unfitted-level-2);\n",
       "}\n",
       "\n",
       "#sk-container-id-1 div.sk-estimator.fitted:hover {\n",
       "  /* fitted */\n",
       "  background-color: var(--sklearn-color-fitted-level-2);\n",
       "}\n",
       "\n",
       "/* Specification for estimator info (e.g. \"i\" and \"?\") */\n",
       "\n",
       "/* Common style for \"i\" and \"?\" */\n",
       "\n",
       ".sk-estimator-doc-link,\n",
       "a:link.sk-estimator-doc-link,\n",
       "a:visited.sk-estimator-doc-link {\n",
       "  float: right;\n",
       "  font-size: smaller;\n",
       "  line-height: 1em;\n",
       "  font-family: monospace;\n",
       "  background-color: var(--sklearn-color-background);\n",
       "  border-radius: 1em;\n",
       "  height: 1em;\n",
       "  width: 1em;\n",
       "  text-decoration: none !important;\n",
       "  margin-left: 0.5em;\n",
       "  text-align: center;\n",
       "  /* unfitted */\n",
       "  border: var(--sklearn-color-unfitted-level-1) 1pt solid;\n",
       "  color: var(--sklearn-color-unfitted-level-1);\n",
       "}\n",
       "\n",
       ".sk-estimator-doc-link.fitted,\n",
       "a:link.sk-estimator-doc-link.fitted,\n",
       "a:visited.sk-estimator-doc-link.fitted {\n",
       "  /* fitted */\n",
       "  border: var(--sklearn-color-fitted-level-1) 1pt solid;\n",
       "  color: var(--sklearn-color-fitted-level-1);\n",
       "}\n",
       "\n",
       "/* On hover */\n",
       "div.sk-estimator:hover .sk-estimator-doc-link:hover,\n",
       ".sk-estimator-doc-link:hover,\n",
       "div.sk-label-container:hover .sk-estimator-doc-link:hover,\n",
       ".sk-estimator-doc-link:hover {\n",
       "  /* unfitted */\n",
       "  background-color: var(--sklearn-color-unfitted-level-3);\n",
       "  color: var(--sklearn-color-background);\n",
       "  text-decoration: none;\n",
       "}\n",
       "\n",
       "div.sk-estimator.fitted:hover .sk-estimator-doc-link.fitted:hover,\n",
       ".sk-estimator-doc-link.fitted:hover,\n",
       "div.sk-label-container:hover .sk-estimator-doc-link.fitted:hover,\n",
       ".sk-estimator-doc-link.fitted:hover {\n",
       "  /* fitted */\n",
       "  background-color: var(--sklearn-color-fitted-level-3);\n",
       "  color: var(--sklearn-color-background);\n",
       "  text-decoration: none;\n",
       "}\n",
       "\n",
       "/* Span, style for the box shown on hovering the info icon */\n",
       ".sk-estimator-doc-link span {\n",
       "  display: none;\n",
       "  z-index: 9999;\n",
       "  position: relative;\n",
       "  font-weight: normal;\n",
       "  right: .2ex;\n",
       "  padding: .5ex;\n",
       "  margin: .5ex;\n",
       "  width: min-content;\n",
       "  min-width: 20ex;\n",
       "  max-width: 50ex;\n",
       "  color: var(--sklearn-color-text);\n",
       "  box-shadow: 2pt 2pt 4pt #999;\n",
       "  /* unfitted */\n",
       "  background: var(--sklearn-color-unfitted-level-0);\n",
       "  border: .5pt solid var(--sklearn-color-unfitted-level-3);\n",
       "}\n",
       "\n",
       ".sk-estimator-doc-link.fitted span {\n",
       "  /* fitted */\n",
       "  background: var(--sklearn-color-fitted-level-0);\n",
       "  border: var(--sklearn-color-fitted-level-3);\n",
       "}\n",
       "\n",
       ".sk-estimator-doc-link:hover span {\n",
       "  display: block;\n",
       "}\n",
       "\n",
       "/* \"?\"-specific style due to the `<a>` HTML tag */\n",
       "\n",
       "#sk-container-id-1 a.estimator_doc_link {\n",
       "  float: right;\n",
       "  font-size: 1rem;\n",
       "  line-height: 1em;\n",
       "  font-family: monospace;\n",
       "  background-color: var(--sklearn-color-background);\n",
       "  border-radius: 1rem;\n",
       "  height: 1rem;\n",
       "  width: 1rem;\n",
       "  text-decoration: none;\n",
       "  /* unfitted */\n",
       "  color: var(--sklearn-color-unfitted-level-1);\n",
       "  border: var(--sklearn-color-unfitted-level-1) 1pt solid;\n",
       "}\n",
       "\n",
       "#sk-container-id-1 a.estimator_doc_link.fitted {\n",
       "  /* fitted */\n",
       "  border: var(--sklearn-color-fitted-level-1) 1pt solid;\n",
       "  color: var(--sklearn-color-fitted-level-1);\n",
       "}\n",
       "\n",
       "/* On hover */\n",
       "#sk-container-id-1 a.estimator_doc_link:hover {\n",
       "  /* unfitted */\n",
       "  background-color: var(--sklearn-color-unfitted-level-3);\n",
       "  color: var(--sklearn-color-background);\n",
       "  text-decoration: none;\n",
       "}\n",
       "\n",
       "#sk-container-id-1 a.estimator_doc_link.fitted:hover {\n",
       "  /* fitted */\n",
       "  background-color: var(--sklearn-color-fitted-level-3);\n",
       "}\n",
       "</style><div id=\"sk-container-id-1\" class=\"sk-top-container\"><div class=\"sk-text-repr-fallback\"><pre>RandomForestClassifier(random_state=42)</pre><b>In a Jupyter environment, please rerun this cell to show the HTML representation or trust the notebook. <br />On GitHub, the HTML representation is unable to render, please try loading this page with nbviewer.org.</b></div><div class=\"sk-container\" hidden><div class=\"sk-item\"><div class=\"sk-estimator fitted sk-toggleable\"><input class=\"sk-toggleable__control sk-hidden--visually\" id=\"sk-estimator-id-1\" type=\"checkbox\" checked><label for=\"sk-estimator-id-1\" class=\"sk-toggleable__label fitted sk-toggleable__label-arrow\"><div><div>RandomForestClassifier</div></div><div><a class=\"sk-estimator-doc-link fitted\" rel=\"noreferrer\" target=\"_blank\" href=\"https://scikit-learn.org/1.6/modules/generated/sklearn.ensemble.RandomForestClassifier.html\">?<span>Documentation for RandomForestClassifier</span></a><span class=\"sk-estimator-doc-link fitted\">i<span>Fitted</span></span></div></label><div class=\"sk-toggleable__content fitted\"><pre>RandomForestClassifier(random_state=42)</pre></div> </div></div></div></div>"
      ]
     },
     "execution_count": 19,
     "metadata": {},
     "output_type": "execute_result"
    }
   ],
   "execution_count": 19
  },
  {
   "metadata": {
    "ExecuteTime": {
     "end_time": "2025-02-21T20:20:39.226655Z",
     "start_time": "2025-02-21T20:20:39.211717Z"
    }
   },
   "cell_type": "code",
   "source": [
    "# Feature importance\n",
    "feature_importance = pd.Series(rf_model.feature_importances_, index=X_train.columns)\n",
    "feature_importance = feature_importance.sort_values(ascending=False)"
   ],
   "id": "9ba759fb4e15696c",
   "outputs": [],
   "execution_count": 20
  },
  {
   "metadata": {
    "ExecuteTime": {
     "end_time": "2025-02-21T20:20:39.464543Z",
     "start_time": "2025-02-21T20:20:39.259019Z"
    }
   },
   "cell_type": "code",
   "source": [
    "# Plot feature importance\n",
    "plt.figure(figsize=(10, 6))\n",
    "sns.barplot(x=feature_importance.values, y=feature_importance.index)\n",
    "plt.title(\"Feature Importance - Random Forest\")\n",
    "plt.show()"
   ],
   "id": "ebfcacc4815f6f30",
   "outputs": [
    {
     "data": {
      "text/plain": [
       "<Figure size 1000x600 with 1 Axes>"
      ],
      "image/png": "[encoded data removed]"
     },
     "metadata": {},
     "output_type": "display_data"
    }
   ],
   "execution_count": 21
  },
  {
   "metadata": {
    "ExecuteTime": {
     "end_time": "2025-02-21T20:20:39.574554Z",
     "start_time": "2025-02-21T20:20:39.497470Z"
    }
   },
   "cell_type": "code",
   "source": [
    "# **Correlation Analysis**\n",
    "# Visualize correlations between features\n",
    "plt.figure(figsize=(12, 8))\n",
    "numerical_df = df.select_dtypes(include=['number'])\n",
    "corr = numerical_df.corr()\n",
    "mask = corr['PCOS'].abs() > 0.3  # Filter correlated features\n",
    "sns.heatmap(corr.loc[mask, mask], annot=True, cmap='coolwarm')\n",
    "plt.title('Correlation Heatmap - PCOS')\n",
    "plt.show()"
   ],
   "id": "dabce761c2acbd59",
   "outputs": [
    {
     "data": {
      "text/plain": [
       "<Figure size 1200x800 with 2 Axes>"
      ],
      "image/png": "[encoded data removed]"
     },
     "metadata": {},
     "output_type": "display_data"
    }
   ],
   "execution_count": 22
  },
  {
   "metadata": {
    "ExecuteTime": {
     "end_time": "2025-02-21T20:20:48.715970Z",
     "start_time": "2025-02-21T20:20:39.606788Z"
    }
   },
   "cell_type": "code",
   "source": [
    "# **Model Tuning & Final Model Selection**\n",
    "\n",
    "# Hyperparameter tuning for Random Forest (best performing model)\n",
    "param_grid_rf = {\n",
    "    'n_estimators': [50, 100, 200],\n",
    "    'max_depth': [10, 20, None],\n",
    "    'min_samples_split': [2, 5, 10]\n",
    "}\n",
    "\n",
    "rf_search = GridSearchCV(RandomForestClassifier(random_state=42), param_grid_rf, cv=5, scoring='accuracy')\n",
    "rf_search.fit(X_train, y_train)\n",
    "best_rf = rf_search.best_estimator_"
   ],
   "id": "6d434f5cf7b5b6d9",
   "outputs": [],
   "execution_count": 23
  },
  {
   "metadata": {
    "ExecuteTime": {
     "end_time": "2025-02-21T20:20:48.761984Z",
     "start_time": "2025-02-21T20:20:48.746974Z"
    }
   },
   "cell_type": "code",
   "source": [
    "# Evaluate the best model (best_rf)\n",
    "y_pred_rf = best_rf.predict(X_test)\n",
    "print(\"\\nBest Random Forest Test Accuracy:\", accuracy_score(y_test, y_pred_rf))\n",
    "print(f\"Classification Report for Best Random Forest:\\n\", classification_report(y_test, y_pred_rf))"
   ],
   "id": "ab92529241dbe278",
   "outputs": [
    {
     "name": "stdout",
     "output_type": "stream",
     "text": [
      "\n",
      "Best Random Forest Test Accuracy: 0.8285714285714286\n",
      "Classification Report for Best Random Forest:\n",
      "               precision    recall  f1-score   support\n",
      "\n",
      "         0.0       0.86      0.93      0.89        27\n",
      "         1.0       0.67      0.50      0.57         8\n",
      "\n",
      "    accuracy                           0.83        35\n",
      "   macro avg       0.76      0.71      0.73        35\n",
      "weighted avg       0.82      0.83      0.82        35\n",
      "\n"
     ]
    }
   ],
   "execution_count": 24
  },
  {
   "metadata": {
    "ExecuteTime": {
     "end_time": "2025-02-21T20:26:02.095179Z",
     "start_time": "2025-02-21T20:20:48.831222Z"
    }
   },
   "cell_type": "code",
   "source": [
    "# Define the explainer for SHAP\n",
    "import shap\n",
    "\n",
    "# Initialize the SHAP explainer for Random Forest\n",
    "explainer = shap.TreeExplainer(best_rf)\n",
    "\n",
    "# Define the features variable (X) from your training data\n",
    "X = features  # Use the features DataFrame for the input data\n",
    "\n",
    "# Function to preprocess input and match the model's training features\n",
    "def preprocess_input(age, weight, height, menstrual_irregularity, exercise_freq):\n",
    "    # Create DataFrame from inputs\n",
    "    input_df = pd.DataFrame([{\n",
    "        'Age': age,\n",
    "        'Weight_kg': weight,\n",
    "        'Height_m': height / 100,  # Convert cm to meters\n",
    "        'Menstrual_Irregularity': 1 if menstrual_irregularity else 0,\n",
    "        'Exercise_Frequency': exercise_freq\n",
    "    }])\n",
    "    \n",
    "    # Add missing features with median values\n",
    "    for col in X.columns:\n",
    "        if col not in input_df.columns:\n",
    "            input_df[col] = df[col].median()\n",
    "    \n",
    "    # Reorder columns to match the training data\n",
    "    input_df = input_df[X.columns]\n",
    "    \n",
    "    # Scale features\n",
    "    scaled_input = scaler.transform(input_df)\n",
    "    return scaled_input\n",
    "\n",
    "# Function to predict PCOS risk\n",
    "def predict_pcos(age, weight, height_cm, menstrual_irregular, exercise_freq):\n",
    "    processed_input = preprocess_input(age, weight, height_cm, \n",
    "                                      menstrual_irregular, exercise_freq)\n",
    "    prediction = best_rf.predict_proba(processed_input, verbose=0)[0][1]\n",
    "    explanation = \"Factors contributing to this prediction:\\n\"\n",
    "    \n",
    "    # Generate SHAP explanation\n",
    "    shap_values = explainer.shap_values(processed_input)\n",
    "    feature_importance = sorted(zip(X.columns, shap_values[0][0]), \n",
    "                               key=lambda x: abs(x[1]), reverse=True)[:3]\n",
    "    \n",
    "    for feature, value in feature_importance:\n",
    "        explanation += f\"- {feature}: {value:.2f}\\n\"\n",
    "    \n",
    "    lifestyle_tips = []\n",
    "    if prediction > 0.7:\n",
    "        lifestyle_tips.append(\"Consider consulting an endocrinologist\")\n",
    "    if weight > 70:\n",
    "        lifestyle_tips.append(\"Weight management may help reduce symptoms\")\n",
    "    \n",
    "    return {\n",
    "        \"Risk Probability\": float(prediction),\n",
    "        \"Explanation\": explanation,\n",
    "        \"Lifestyle Tips\": \"\\n\".join(lifestyle_tips) if lifestyle_tips else \"No specific recommendations\"\n",
    "    }\n",
    "\n",
    "# Gradio interface\n",
    "iface = gr.Interface(fn=predict_pcos,\n",
    "                     inputs=[gr.Slider(15, 45, step=1, label=\"Age\"),\n",
    "                             gr.Slider(30, 120, step=0.5, label=\"Weight (kg)\"),\n",
    "                             gr.Slider(140, 190, step=1, label=\"Height (cm)\"),\n",
    "                             gr.Radio([\"Yes\", \"No\"], label=\"Menstrual Irregularity\"),\n",
    "                             gr.Dropdown([\"Daily\", \"3-4 Times a Week\", \"1-2 Times a Week\", \"Rarely\", \"Never\"], \n",
    "                                         label=\"Exercise Frequency\")\n",
    "                     ],\n",
    "                     outputs=[\"json\", \"text\", \"text\"],\n",
    "                     title=\"PCOS Risk Assessment System\")\n",
    "\n",
    "iface.launch(debug=True, inline=True)\n"
   ],
   "id": "259ebd446800763e",
   "outputs": [
    {
     "name": "stdout",
     "output_type": "stream",
     "text": [
      "* Running on local URL:  http://127.0.0.1:7860\n",
      "\n",
      "To create a public link, set `share=True` in `launch()`.\n"
     ]
    },
    {
     "data": {
      "text/plain": [
       "<IPython.core.display.HTML object>"
      ],
      "text/html": [
       "<div><iframe src=\"http://127.0.0.1:7860/\" width=\"100%\" height=\"500\" allow=\"autoplay; camera; microphone; clipboard-read; clipboard-write;\" frameborder=\"0\" allowfullscreen></iframe></div>"
      ]
     },
     "metadata": {},
     "output_type": "display_data"
    },
    {
     "name": "stderr",
     "output_type": "stream",
     "text": [
      "Traceback (most recent call last):\n",
      "  File \"F:\\ICBT_BSCE\\ASSIGNMENTS\\Computational_Intelligence\\PCOSPrediction\\PCOS-Project\\.venv\\lib\\site-packages\\gradio\\queueing.py\", line 625, in process_events\n",
      "    response = await route_utils.call_process_api(\n",
      "  File \"F:\\ICBT_BSCE\\ASSIGNMENTS\\Computational_Intelligence\\PCOSPrediction\\PCOS-Project\\.venv\\lib\\site-packages\\gradio\\route_utils.py\", line 322, in call_process_api\n",
      "    output = await app.get_blocks().process_api(\n",
      "  File \"F:\\ICBT_BSCE\\ASSIGNMENTS\\Computational_Intelligence\\PCOSPrediction\\PCOS-Project\\.venv\\lib\\site-packages\\gradio\\blocks.py\", line 2098, in process_api\n",
      "    result = await self.call_function(\n",
      "  File \"F:\\ICBT_BSCE\\ASSIGNMENTS\\Computational_Intelligence\\PCOSPrediction\\PCOS-Project\\.venv\\lib\\site-packages\\gradio\\blocks.py\", line 1645, in call_function\n",
      "    prediction = await anyio.to_thread.run_sync(  # type: ignore\n",
      "  File \"F:\\ICBT_BSCE\\ASSIGNMENTS\\Computational_Intelligence\\PCOSPrediction\\PCOS-Project\\.venv\\lib\\site-packages\\anyio\\to_thread.py\", line 56, in run_sync\n",
      "    return await get_async_backend().run_sync_in_worker_thread(\n",
      "  File \"F:\\ICBT_BSCE\\ASSIGNMENTS\\Computational_Intelligence\\PCOSPrediction\\PCOS-Project\\.venv\\lib\\site-packages\\anyio\\_backends\\_asyncio.py\", line 2461, in run_sync_in_worker_thread\n",
      "    return await future\n",
      "  File \"F:\\ICBT_BSCE\\ASSIGNMENTS\\Computational_Intelligence\\PCOSPrediction\\PCOS-Project\\.venv\\lib\\site-packages\\anyio\\_backends\\_asyncio.py\", line 962, in run\n",
      "    result = context.run(func, *args)\n",
      "  File \"F:\\ICBT_BSCE\\ASSIGNMENTS\\Computational_Intelligence\\PCOSPrediction\\PCOS-Project\\.venv\\lib\\site-packages\\gradio\\utils.py\", line 883, in wrapper\n",
      "    response = f(*args, **kwargs)\n",
      "  File \"C:\\Users\\Admin\\AppData\\Local\\Temp\\ipykernel_17560\\1957071932.py\", line 35, in predict_pcos\n",
      "    processed_input = preprocess_input(age, weight, height_cm,\n",
      "  File \"C:\\Users\\Admin\\AppData\\Local\\Temp\\ipykernel_17560\\1957071932.py\", line 24, in preprocess_input\n",
      "    input_df[col] = df[col].median()\n",
      "  File \"F:\\ICBT_BSCE\\ASSIGNMENTS\\Computational_Intelligence\\PCOSPrediction\\PCOS-Project\\.venv\\lib\\site-packages\\pandas\\core\\series.py\", line 6559, in median\n",
      "    return NDFrame.median(self, axis, skipna, numeric_only, **kwargs)\n",
      "  File \"F:\\ICBT_BSCE\\ASSIGNMENTS\\Computational_Intelligence\\PCOSPrediction\\PCOS-Project\\.venv\\lib\\site-packages\\pandas\\core\\generic.py\", line 12431, in median\n",
      "    return self._stat_function(\n",
      "  File \"F:\\ICBT_BSCE\\ASSIGNMENTS\\Computational_Intelligence\\PCOSPrediction\\PCOS-Project\\.venv\\lib\\site-packages\\pandas\\core\\generic.py\", line 12377, in _stat_function\n",
      "    return self._reduce(\n",
      "  File \"F:\\ICBT_BSCE\\ASSIGNMENTS\\Computational_Intelligence\\PCOSPrediction\\PCOS-Project\\.venv\\lib\\site-packages\\pandas\\core\\series.py\", line 6457, in _reduce\n",
      "    return op(delegate, skipna=skipna, **kwds)\n",
      "  File \"F:\\ICBT_BSCE\\ASSIGNMENTS\\Computational_Intelligence\\PCOSPrediction\\PCOS-Project\\.venv\\lib\\site-packages\\pandas\\core\\nanops.py\", line 147, in f\n",
      "    result = alt(values, axis=axis, skipna=skipna, **kwds)\n",
      "  File \"F:\\ICBT_BSCE\\ASSIGNMENTS\\Computational_Intelligence\\PCOSPrediction\\PCOS-Project\\.venv\\lib\\site-packages\\pandas\\core\\nanops.py\", line 787, in nanmedian\n",
      "    raise TypeError(f\"Cannot convert {values} to numeric\")\n",
      "TypeError: Cannot convert ['Unmarried' 'Unmarried' 'Unmarried' 'Unmarried' 'Unmarried' 'Unmarried'\n",
      " 'Unmarried' 'Unmarried' 'Unmarried' 'Unmarried' 'Unmarried' 'Unmarried'\n",
      " 'Unmarried' 'Unmarried' 'Married' 'Unmarried' 'Unmarried' 'Unmarried'\n",
      " 'Unmarried' 'Unmarried' 'Unmarried' 'Unmarried' 'Unmarried' 'Married'\n",
      " 'Unmarried' 'Married' 'Unmarried' 'Unmarried' 'Unmarried' 'Unmarried'\n",
      " 'Unmarried' 'Married' 'Unmarried' 'Unmarried' 'Unmarried' 'Married'\n",
      " 'Unmarried' 'Unmarried' 'Married' 'Unmarried' 'Unmarried' 'Unmarried'\n",
      " 'Unmarried' 'Unmarried' 'Unmarried' 'Unmarried' 'Unmarried' 'Unmarried'\n",
      " 'Unmarried' 'Unmarried' 'Unmarried' 'Unmarried' 'Unmarried' 'Unmarried'\n",
      " 'Unmarried' 'Unmarried' 'Unmarried' 'Unmarried' 'Unmarried' 'Unmarried'\n",
      " 'Unmarried' 'Married' 'Unmarried' 'Unmarried' 'Unmarried' 'Unmarried'\n",
      " 'Unmarried' 'Unmarried' 'Unmarried' 'Unmarried' 'Unmarried' 'Unmarried'\n",
      " 'Unmarried' 'Unmarried' 'Unmarried' 'Unmarried' 'Unmarried' 'Unmarried'\n",
      " 'Unmarried' 'Unmarried' 'Unmarried' 'Unmarried' 'Unmarried' 'Unmarried'\n",
      " 'Unmarried' 'Unmarried' 'Unmarried' 'Unmarried' 'Married' 'Unmarried'\n",
      " 'Unmarried' 'Unmarried' 'Unmarried' 'Unmarried' 'Unmarried' 'Unmarried'\n",
      " 'Unmarried' 'Unmarried' 'Unmarried' 'Unmarried' 'Unmarried' 'Unmarried'\n",
      " 'Unmarried' 'Unmarried' 'Widow' 'Unmarried' 'Unmarried' 'Unmarried'\n",
      " 'Unmarried' 'Unmarried' 'Unmarried' 'Unmarried' 'Unmarried' 'Unmarried'\n",
      " 'Unmarried' 'Married' 'Unmarried' 'Unmarried' 'Unmarried' 'Unmarried'\n",
      " 'Unmarried' 'Unmarried' 'Unmarried' 'Unmarried' 'Unmarried' 'Unmarried'\n",
      " 'Unmarried' 'Unmarried' 'Unmarried' 'Unmarried' 'Unmarried' 'Married'\n",
      " 'Unmarried' 'Married' 'Unmarried' 'Unmarried' 'Unmarried' 'Unmarried'\n",
      " 'Unmarried' 'Unmarried' 'Unmarried' 'Unmarried' 'Unmarried' 'Unmarried'\n",
      " 'Unmarried' 'Unmarried' 'Unmarried' 'Unmarried' 'Unmarried' 'Unmarried'\n",
      " 'Unmarried' 'Married' 'Married' 'Married' 'Unmarried' 'Unmarried'\n",
      " 'Unmarried' 'Unmarried' 'Unmarried' 'Unmarried' 'Unmarried' 'Unmarried'\n",
      " 'Unmarried' 'Married' 'Unmarried' 'Unmarried' 'Married' 'Unmarried'\n",
      " 'Unmarried' 'Unmarried' 'Unmarried' 'Unmarried' 'Unmarried'] to numeric\n"
     ]
    },
    {
     "name": "stdout",
     "output_type": "stream",
     "text": [
      "Keyboard interruption in main thread... closing server.\n"
     ]
    },
    {
     "data": {
      "text/plain": []
     },
     "execution_count": 25,
     "metadata": {},
     "output_type": "execute_result"
    }
   ],
   "execution_count": 25
  }
 ],
 "metadata": {
  "kernelspec": {
   "display_name": "Python 3 (ipykernel)",
   "language": "python",
   "name": "python3"
  },
  "language_info": {
   "codemirror_mode": {
    "name": "ipython",
    "version": 3
   },
   "file_extension": ".py",
   "mimetype": "text/x-python",
   "name": "python",
   "nbconvert_exporter": "python",
   "pygments_lexer": "ipython3",
   "version": "3.10.0"
  }
 },
 "nbformat": 4,
 "nbformat_minor": 5
}
