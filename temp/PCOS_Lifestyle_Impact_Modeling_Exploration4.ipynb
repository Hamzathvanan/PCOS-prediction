{
 "cells": [
  {
   "metadata": {},
   "cell_type": "markdown",
   "source": "# **PCOS Lifestyle Impact Prediction with Gradio Interface**",
   "id": "dd7278cd0795609e"
  },
  {
   "metadata": {},
   "cell_type": "markdown",
   "source": "# This notebook implements a series of machine learning models to predict the likelihood of PCOS based on lifestyle factors. ",
   "id": "7695378fc9b76090"
  },
  {
   "metadata": {},
   "cell_type": "markdown",
   "source": "# The models include Random Forest, Decision Trees, Logistic Regression, and MLP.",
   "id": "16db223ce3451a5c"
  },
  {
   "metadata": {},
   "cell_type": "markdown",
   "source": "# We also use Gradio to provide real-time predictions and visualize the results interactively.",
   "id": "508d342376f9a376"
  },
  {
   "metadata": {},
   "cell_type": "markdown",
   "source": "# Import necessary libraries",
   "id": "689b19fc28f9ca72"
  },
  {
   "metadata": {},
   "cell_type": "code",
   "source": [
    "import numpy as np\n",
    "import pandas as pd\n",
    "import matplotlib.pyplot as plt\n",
    "import seaborn as sns\n",
    "from sklearn.preprocessing import LabelEncoder, StandardScaler\n",
    "from sklearn.model_selection import train_test_split, GridSearchCV\n",
    "from sklearn.ensemble import RandomForestClassifier\n",
    "from sklearn.metrics import accuracy_score, confusion_matrix, ConfusionMatrixDisplay, roc_curve, auc, classification_report, precision_recall_curve\n",
    "from sklearn.linear_model import LogisticRegression\n",
    "from sklearn.tree import DecisionTreeClassifier\n",
    "from sklearn.neural_network import MLPClassifier\n",
    "from sklearn.impute import SimpleImputer\n",
    "import gradio as gr\n",
    "from keras.src.layers import Dense, Dropout\n",
    "from keras import Sequential"
   ],
   "id": "65e54cd9a0be8570",
   "outputs": [],
   "execution_count": null
  },
  {
   "metadata": {},
   "cell_type": "markdown",
   "source": "# **Load the Dataset**",
   "id": "51e72a6b4082ccbc"
  },
  {
   "metadata": {},
   "cell_type": "code",
   "source": [
    "data = pd.read_csv(\"input/Cleaned-Data.csv\")\n",
    "print(\"Initial dataset shape:\", data.shape)"
   ],
   "id": "ff712abb1e9426b6",
   "outputs": [],
   "execution_count": null
  },
  {
   "metadata": {},
   "cell_type": "markdown",
   "source": "# **Data Preprocessing and Validation**",
   "id": "3d3d8bafdd8d4815"
  },
  {
   "metadata": {},
   "cell_type": "code",
   "source": [
    "print(data.describe())\n",
    "data.info()\n",
    "data.head()"
   ],
   "id": "196460f67d6c154e",
   "outputs": [],
   "execution_count": null
  },
  {
   "metadata": {},
   "cell_type": "markdown",
   "source": "# Check for missing values",
   "id": "92217aff5582346c"
  },
  {
   "metadata": {},
   "cell_type": "code",
   "source": [
    "print(\"\\nMissing values per column:\")\n",
    "print(data.isnull().sum())"
   ],
   "id": "bb5983a2eb13408f",
   "outputs": [],
   "execution_count": null
  },
  {
   "metadata": {},
   "cell_type": "markdown",
   "source": "# Impute missing values with median for numerical columns",
   "id": "3b5e01047c9c7c30"
  },
  {
   "metadata": {},
   "cell_type": "code",
   "source": [
    "numerical_cols = data.select_dtypes(include=[np.number]).columns\n",
    "imputer = SimpleImputer(strategy='median')\n",
    "data[numerical_cols] = imputer.fit_transform(data[numerical_cols])"
   ],
   "id": "7818f6c4c356037b",
   "outputs": [],
   "execution_count": null
  },
  {
   "metadata": {},
   "cell_type": "markdown",
   "source": "# Check again after imputation",
   "id": "63b6f1415bf71a9a"
  },
  {
   "metadata": {},
   "cell_type": "code",
   "source": [
    "print(\"\\nMissing values after imputation:\")\n",
    "print(data.isnull().sum())"
   ],
   "id": "2d263dd8f6752c34",
   "outputs": [],
   "execution_count": null
  },
  {
   "metadata": {},
   "cell_type": "markdown",
   "source": "# **Label Encoding Categorical Features**",
   "id": "673512b9189286f2"
  },
  {
   "metadata": {},
   "cell_type": "code",
   "source": [
    "categorical_cols = data.drop(columns=['PCOS']).select_dtypes(include=['object']).columns\n",
    "data_encoded = data.copy()"
   ],
   "id": "b914072d9c382dd1",
   "outputs": [],
   "execution_count": null
  },
  {
   "metadata": {},
   "cell_type": "markdown",
   "source": "# Use separate LabelEncoder for each column to avoid conflicts",
   "id": "6fecde3356d9da24"
  },
  {
   "metadata": {},
   "cell_type": "code",
   "source": [
    "for col in categorical_cols:\n",
    "    le = LabelEncoder()\n",
    "    data_encoded[col] = le.fit_transform(data_encoded[col])"
   ],
   "id": "efcec117c364daeb",
   "outputs": [],
   "execution_count": null
  },
  {
   "metadata": {},
   "cell_type": "markdown",
   "source": "# Convert target variable 'PCOS' to numerical (1/0)",
   "id": "95601abc92bde3f6"
  },
  {
   "metadata": {},
   "cell_type": "code",
   "source": "data_encoded['PCOS'] = data_encoded['PCOS'].map({'Yes': 1, 'No': 0})",
   "id": "ec4c0a96108b2426",
   "outputs": [],
   "execution_count": null
  },
  {
   "metadata": {},
   "cell_type": "markdown",
   "source": "# **Critical: Target Validation**",
   "id": "3727e6dbe53e1397"
  },
  {
   "metadata": {},
   "cell_type": "code",
   "source": [
    "target_counts = data_encoded['PCOS'].value_counts()\n",
    "print(\"\\nTarget distribution after encoding:\")\n",
    "print(target_counts)"
   ],
   "id": "cedad0ea9433bb08",
   "outputs": [],
   "execution_count": null
  },
  {
   "metadata": {},
   "cell_type": "markdown",
   "source": "# **Feature Engineering**",
   "id": "9f48b89125689eb5"
  },
  {
   "metadata": {},
   "cell_type": "markdown",
   "source": "# Calculate BMI",
   "id": "30116b204e48b7b6"
  },
  {
   "metadata": {},
   "cell_type": "code",
   "source": [
    "data_encoded.loc[:, 'Height_m'] = data_encoded['Height_ft'] * 0.3048\n",
    "data_encoded.loc[:, 'BMI'] = data_encoded['Weight_kg'] / (data_encoded['Height_m'] ** 2)"
   ],
   "id": "be48d7fdb1db2e24",
   "outputs": [],
   "execution_count": null
  },
  {
   "metadata": {},
   "cell_type": "markdown",
   "source": "# Calculate Nutritional Score",
   "id": "16dbd86ccf625fa1"
  },
  {
   "metadata": {},
   "cell_type": "code",
   "source": [
    "nutrition_weights = {\n",
    "    'Diet_Bread_Cereals': 1,\n",
    "    'Diet_Milk_Products': 1,\n",
    "    'Diet_Fruits': 2,\n",
    "    'Diet_Vegetables': 2,\n",
    "    'Diet_Starchy_Vegetables': -1,\n",
    "    'Diet_NonStarchy_Vegetables': 2,\n",
    "    'Diet_Fats': -2,\n",
    "    'Diet_Sweets': -3,\n",
    "    'Diet_Fried_Food': -3,\n",
    "    'Diet_Tea_Coffee': 0,\n",
    "}\n",
    "data_encoded.loc[:, 'Nutritional_Score'] = data_encoded[nutrition_weights.keys()].dot(pd.Series(nutrition_weights))"
   ],
   "id": "f272d1b73fc83a6",
   "outputs": [],
   "execution_count": null
  },
  {
   "metadata": {},
   "cell_type": "markdown",
   "source": "# **Data Splitting**",
   "id": "bda70b6344a188cc"
  },
  {
   "metadata": {},
   "cell_type": "code",
   "source": [
    "features = data_encoded.drop(columns=['PCOS'])\n",
    "target = data_encoded['PCOS']"
   ],
   "id": "db11978d01f809d2",
   "outputs": [],
   "execution_count": null
  },
  {
   "metadata": {},
   "cell_type": "markdown",
   "source": "# Stratified split to maintain class distribution",
   "id": "2a04c281e6a2f79e"
  },
  {
   "metadata": {},
   "cell_type": "code",
   "source": [
    "print(\"Missing values in target variable (PCOS):\")\n",
    "print(target.isnull().sum())"
   ],
   "id": "c2c5e6037f6e2bd3",
   "outputs": [],
   "execution_count": null
  },
  {
   "metadata": {},
   "cell_type": "markdown",
   "source": "# Remove rows where the target variable 'PCOS' is NaN",
   "id": "79767ec82a951494"
  },
  {
   "metadata": {},
   "cell_type": "code",
   "source": [
    "data_cleaned = data_encoded.dropna(subset=['PCOS'])\n",
    "features_cleaned = data_cleaned.drop(columns=['PCOS'])\n",
    "target_cleaned = data_cleaned['PCOS']\n",
    "\n",
    "X_train, X_test, y_train, y_test = train_test_split(\n",
    "    features_cleaned, target_cleaned, \n",
    "    test_size=0.2, \n",
    "    random_state=42, \n",
    "    stratify=target_cleaned\n",
    ")"
   ],
   "id": "a75810b2940241b8",
   "outputs": [],
   "execution_count": null
  },
  {
   "metadata": {},
   "cell_type": "markdown",
   "source": "# **Feature Scaling**",
   "id": "69b781f80ebec071"
  },
  {
   "metadata": {},
   "cell_type": "code",
   "source": [
    "scaler = StandardScaler()\n",
    "numerical_cols = features.select_dtypes(include=[np.number]).columns\n",
    "\n",
    "X_train[numerical_cols] = scaler.fit_transform(X_train[numerical_cols])\n",
    "X_test[numerical_cols] = scaler.transform(X_test[numerical_cols])"
   ],
   "id": "9bcc24381a464261",
   "outputs": [],
   "execution_count": null
  },
  {
   "metadata": {},
   "cell_type": "markdown",
   "source": "# **Model Training and Hyperparameter Tuning**",
   "id": "bb82ff8221bf4a84"
  },
  {
   "metadata": {},
   "cell_type": "code",
   "source": [
    "models = {\n",
    "    \"Random Forest\": RandomForestClassifier(random_state=42),\n",
    "    \"Decision Tree\": DecisionTreeClassifier(random_state=42),\n",
    "    \"Logistic Regression\": LogisticRegression(max_iter=1000, random_state=42),\n",
    "    \"MLP\": MLPClassifier(hidden_layer_sizes=(50,), max_iter=1000, random_state=42)\n",
    "}"
   ],
   "id": "9213b104addd99b6",
   "outputs": [],
   "execution_count": null
  },
  {
   "metadata": {},
   "cell_type": "markdown",
   "source": "# Hyperparameter tuning using GridSearchCV for Random Forest",
   "id": "e9cba47cde8b63b3"
  },
  {
   "metadata": {},
   "cell_type": "code",
   "source": [
    "param_grid_rf = {\n",
    "    'n_estimators': [50, 100, 200],\n",
    "    'max_depth': [10, 20, None],\n",
    "    'min_samples_split': [2, 5, 10]\n",
    "}\n",
    "\n",
    "rf_search = GridSearchCV(RandomForestClassifier(random_state=42), param_grid_rf, cv=5, scoring='accuracy')\n",
    "rf_search.fit(X_train, y_train)\n",
    "best_rf = rf_search.best_estimator_"
   ],
   "id": "15b5aa7242fee2f3",
   "outputs": [],
   "execution_count": null
  },
  {
   "metadata": {},
   "cell_type": "markdown",
   "source": "# MLP Hyperparameter Tuning",
   "id": "632660193969eb80"
  },
  {
   "metadata": {},
   "cell_type": "code",
   "source": [
    "param_grid_mlp = {\n",
    "    'hidden_layer_sizes': [(50,), (100,), (50, 30)],\n",
    "    'alpha': [0.0001, 0.001]\n",
    "}\n",
    "mlp_search = GridSearchCV(MLPClassifier(max_iter=1000, random_state=42), param_grid_mlp, cv=5)\n",
    "mlp_search.fit(X_train, y_train)\n",
    "best_mlp = mlp_search.best_estimator_"
   ],
   "id": "71f85f1ecb368a37",
   "outputs": [],
   "execution_count": null
  },
  {
   "metadata": {},
   "cell_type": "markdown",
   "source": "# **Evaluation of All Models**",
   "id": "70df759c42e7ab79"
  },
  {
   "metadata": {},
   "cell_type": "code",
   "source": [
    "for name, model in models.items():\n",
    "    model.fit(X_train, y_train)\n",
    "    y_pred = model.predict(X_test)\n",
    "    print(f\"\\n{name} Accuracy: {accuracy_score(y_test, y_pred):.4f}\")\n",
    "    print(f\"Classification Report for {name}:\\n\", classification_report(y_test, y_pred))"
   ],
   "id": "c2ee19fd775427d3",
   "outputs": [],
   "execution_count": null
  },
  {
   "metadata": {},
   "cell_type": "markdown",
   "source": "# Final Evaluation with the best model",
   "id": "39613d47b4f390e9"
  },
  {
   "metadata": {},
   "cell_type": "code",
   "source": [
    "y_pred_rf = best_rf.predict(X_test)\n",
    "y_pred_mlp = best_mlp.predict(X_test)\n",
    "\n",
    "print(\"\\nBest Random Forest Test Accuracy:\", accuracy_score(y_test, y_pred_rf))\n",
    "print(\"\\nBest MLP Test Accuracy:\", accuracy_score(y_test, y_pred_mlp))"
   ],
   "id": "79a821a724db68b9",
   "outputs": [],
   "execution_count": null
  },
  {
   "metadata": {},
   "cell_type": "markdown",
   "source": "# **Model Evaluation Metrics**",
   "id": "1027e3e9d7c9011d"
  },
  {
   "metadata": {},
   "cell_type": "markdown",
   "source": "# Confusion Matrix for Random Forest",
   "id": "cba2f1b7382406c1"
  },
  {
   "metadata": {},
   "cell_type": "code",
   "source": [
    "cm_rf = confusion_matrix(y_test, y_pred_rf)\n",
    "ConfusionMatrixDisplay(cm_rf).plot()\n",
    "plt.title('Random Forest Confusion Matrix')\n",
    "plt.show()"
   ],
   "id": "1ef1c50c648adf41",
   "outputs": [],
   "execution_count": null
  },
  {
   "metadata": {},
   "cell_type": "markdown",
   "source": "# ROC-AUC for Random Forest",
   "id": "634b45ecf299ce81"
  },
  {
   "metadata": {},
   "cell_type": "code",
   "source": [
    "fpr, tpr, _ = roc_curve(y_test, best_rf.predict_proba(X_test)[:,1])\n",
    "roc_auc = auc(fpr, tpr)\n",
    "plt.figure()\n",
    "plt.plot(fpr, tpr, color='darkorange', lw=2, label=f'ROC curve (area = {roc_auc:.2f})')\n",
    "plt.plot([0, 1], [0, 1], color='navy', lw=2, linestyle='--')\n",
    "plt.xlabel('False Positive Rate')\n",
    "plt.ylabel('True Positive Rate')\n",
    "plt.title('Receiver Operating Characteristic (ROC) - Random Forest')\n",
    "plt.legend(loc='lower right')\n",
    "plt.show()"
   ],
   "id": "bc096d884051644f",
   "outputs": [],
   "execution_count": null
  },
  {
   "metadata": {},
   "cell_type": "markdown",
   "source": "# Precision-Recall Curve",
   "id": "f5caa83aa8d959fd"
  },
  {
   "metadata": {},
   "cell_type": "code",
   "source": [
    "precision, recall, _ = precision_recall_curve(y_test, best_rf.predict_proba(X_test)[:,1])\n",
    "plt.plot(recall, precision, marker='.')\n",
    "plt.title('Precision-Recall Curve - Random Forest')\n",
    "plt.show()"
   ],
   "id": "4706c289891a2821",
   "outputs": [],
   "execution_count": null
  },
  {
   "metadata": {},
   "cell_type": "markdown",
   "source": "# **Exploratory Data Analysis (EDA)**",
   "id": "3b3e0402c7e0c0b3"
  },
  {
   "metadata": {},
   "cell_type": "markdown",
   "source": "# Correlation Heatmap",
   "id": "70dc2b0214cb43a5"
  },
  {
   "metadata": {},
   "cell_type": "code",
   "source": [
    "correlation_matrix = data_encoded[['Age','Weight_kg','Diet_Sweets', 'Diet_Fried_Food','Family_History_PCOS', 'Menstrual_Irregularity', 'Hormonal_Imbalance', 'Exercise_Frequency','Exercise_Duration','Sleep_Hours','PCOS']].corr()\n",
    "plt.figure(figsize=(12, 8))\n",
    "sns.heatmap(correlation_matrix, annot=True, cmap='coolwarm', fmt='.2f')\n",
    "plt.title('Correlation Heatmap')\n",
    "plt.show()"
   ],
   "id": "8602e4566e97dc63",
   "outputs": [],
   "execution_count": null
  },
  {
   "metadata": {},
   "cell_type": "markdown",
   "source": "# Pairplot for key features",
   "id": "14ccc1704294ae04"
  },
  {
   "metadata": {},
   "cell_type": "code",
   "source": [
    "sns.pairplot(data_encoded[['BMI', 'Nutritional_Score', 'Age', 'PCOS']], hue='PCOS')\n",
    "plt.show()"
   ],
   "id": "4029400d86c6ccf3",
   "outputs": [],
   "execution_count": null
  },
  {
   "metadata": {},
   "cell_type": "markdown",
   "source": "# **Deep Learning Model - TensorFlow/Keras**",
   "id": "a673cb14aed0055d"
  },
  {
   "metadata": {},
   "cell_type": "code",
   "source": [
    "model = Sequential([\n",
    "    Dense(128, activation='relu', input_shape=(X_train.shape[1],)),\n",
    "    Dropout(0.3),\n",
    "    Dense(64, activation='relu'),\n",
    "    Dense(1, activation='sigmoid')\n",
    "])\n",
    "\n",
    "model.compile(optimizer='adam', loss='binary_crossentropy', metrics=['accuracy'])\n",
    "history = model.fit(X_train, y_train, epochs=50, batch_size=32, validation_split=0.2)"
   ],
   "id": "e1233b2263f59ab2",
   "outputs": [],
   "execution_count": null
  },
  {
   "metadata": {},
   "cell_type": "markdown",
   "source": "# Plot training history",
   "id": "842870e8741e07ac"
  },
  {
   "metadata": {},
   "cell_type": "code",
   "source": [
    "plt.plot(history.history['accuracy'], label='Train Accuracy')\n",
    "plt.plot(history.history['val_accuracy'], label='Validation Accuracy')\n",
    "plt.title('Model Training Progress')\n",
    "plt.legend()\n",
    "plt.show()"
   ],
   "id": "1c8b7ed829925f2b",
   "outputs": [],
   "execution_count": null
  },
  {
   "metadata": {},
   "cell_type": "markdown",
   "source": "# **Gradio Interface for Real-Time Prediction**",
   "id": "6ebd8cdde8a1e86f"
  },
  {
   "metadata": {},
   "cell_type": "code",
   "source": [
    "def predict_pcos(Weight_kg, Exercise_Duration, Hormonal_Imbalance, Conception_Difficulty,\n",
    "                 Insulin_Resistance, Exercise_Benefit, Sleep_Hours, Hirsutism, Age, Exercise_Type, \n",
    "                 Hyperandrogenism, Exercise_Frequency, ID):\n",
    "    # Prepare input data as a DataFrame\n",
    "    input_data = {\n",
    "        \"Weight_kg\": [Weight_kg],\n",
    "        \"Exercise_Duration\": [Exercise_Duration],\n",
    "        \"Hormonal_Imbalance\": [Hormonal_Imbalance],\n",
    "        \"Conception_Difficulty\": [Conception_Difficulty],\n",
    "        \"Insulin_Resistance\": [Insulin_Resistance],\n",
    "        \"Exercise_Benefit\": [Exercise_Benefit],\n",
    "        \"Sleep_Hours\": [Sleep_Hours],\n",
    "        \"Hirsutism\": [Hirsutism],\n",
    "        \"Age\": [Age],\n",
    "        \"Exercise_Type\": [Exercise_Type],\n",
    "        \"Hyperandrogenism\": [Hyperandrogenism],\n",
    "        \"Exercise_Frequency\": [Exercise_Frequency],\n",
    "        \"ID\": [ID]\n",
    "    }\n",
    "\n",
    "    input_df = pd.DataFrame(input_data)\n",
    "\n",
    "    # Scale the input data\n",
    "    scaled_input = scaler.transform(input_df)\n",
    "\n",
    "    # Predict using the trained model\n",
    "    prediction = best_rf.predict_proba(scaled_input)[0][1]\n",
    "\n",
    "    return {\"PCOS Probability\": prediction}\n",
    "\n",
    "\n",
    "iface = gr.Interface(fn=predict_pcos, \n",
    "                    inputs=[gr.Number(label=\"Weight (kg)\"), \n",
    "                            gr.Number(label=\"Exercise Duration (minutes)\"),\n",
    "                            gr.Dropdown(label=\"Hormonal Imbalance\", choices=[\"Yes\", \"No\"]),\n",
    "                            gr.Dropdown(label=\"Conception Difficulty\", choices=[\"Yes\", \"No\"]),\n",
    "                            gr.Dropdown(label=\"Insulin Resistance\", choices=[\"Yes\", \"No\"]),\n",
    "                            gr.Dropdown(label=\"Exercise Benefit\", choices=[\"Low\", \"Moderate\", \"High\"]),\n",
    "                            gr.Number(label=\"Sleep Hours\"),\n",
    "                            gr.Dropdown(label=\"Hirsutism\", choices=[\"Yes\", \"No\"]),\n",
    "                            gr.Number(label=\"Age\"),\n",
    "                            gr.Dropdown(label=\"Exercise Type\", choices=[\"Cardio\", \"Strength\"]),\n",
    "                            gr.Dropdown(label=\"Hyperandrogenism\", choices=[\"Yes\", \"No\"]),\n",
    "                            gr.Number(label=\"Exercise Frequency (times per week)\"),\n",
    "                            gr.Number(label=\"ID\")],\n",
    "                    outputs=\"json\",\n",
    "                    title=\"PCOS Risk Predictor\")\n",
    "\n",
    "iface.launch(debug=True, inline=True)"
   ],
   "id": "de269d1356a33b39",
   "outputs": [],
   "execution_count": null
  }
 ],
 "metadata": {
  "kernelspec": {
   "display_name": "Python 3 (ipykernel)",
   "language": "python",
   "name": "python3"
  },
  "language_info": {
   "codemirror_mode": {
    "name": "ipython",
    "version": 3
   },
   "file_extension": ".py",
   "mimetype": "text/x-python",
   "name": "python",
   "nbconvert_exporter": "python",
   "pygments_lexer": "ipython3",
   "version": "3.10.0"
  }
 },
 "nbformat": 4,
 "nbformat_minor": 5
}
